{
 "cells": [
  {
   "cell_type": "markdown",
   "metadata": {},
   "source": [
    "# 4 - Feature Construction\n",
    "\n",
    "## Introduction:\n",
    "\n",
    "This project will primarily focus on working with categorical data to build new features into the dataset so that the models employed will be able to learn from them. The idea is to introduce and construct features that are useful to improve the model's performance over the baseline.\n",
    "\n",
    "\n",
    "## Breakdown of this Project:\n",
    "- Examining the Dataset\n",
    "- Applying imputation techniques to categorical features.\n",
    "- Applying encoding techniques to categorical variables.\n",
    "- Extending numerical features.\n",
    "- Text-specific feature construction.\n",
    "\n",
    "\n",
    "## Requirements:\n",
    "\n"
   ]
  },
  {
   "cell_type": "markdown",
   "metadata": {},
   "source": [
    "## 1 - Taking a look at the Dataset:\n",
    "\n",
    "The dataset here will be self-created to show a variety of data leels and types.\n",
    "\n",
    "In this section, the Pandas Dataframe with its attributes and methods will be used on the dataset."
   ]
  },
  {
   "cell_type": "code",
   "execution_count": 1,
   "metadata": {},
   "outputs": [],
   "source": [
    "# Import the Required Libraries:\n",
    "import pandas as pd"
   ]
  },
  {
   "cell_type": "code",
   "execution_count": 2,
   "metadata": {},
   "outputs": [],
   "source": [
    "# Set up the Dataset:\n",
    "X_data = pd.DataFrame({'city':['tokyo', None, 'london', 'seattle', 'san francisco', 'tokyo'],\n",
    "                       'boolean':['yes', 'no', None, 'no', 'no', 'yes'], \n",
    "                       'ordinal_column':['somewhat like', 'like', 'somewhat like', 'like', \n",
    "                                         'somewhat like', 'dislike'], \n",
    "                       'quantitative_column':[1, 11, -.5, 10, None, 20]})"
   ]
  },
  {
   "cell_type": "code",
   "execution_count": 3,
   "metadata": {},
   "outputs": [
    {
     "data": {
      "text/html": [
       "<div>\n",
       "<style scoped>\n",
       "    .dataframe tbody tr th:only-of-type {\n",
       "        vertical-align: middle;\n",
       "    }\n",
       "\n",
       "    .dataframe tbody tr th {\n",
       "        vertical-align: top;\n",
       "    }\n",
       "\n",
       "    .dataframe thead th {\n",
       "        text-align: right;\n",
       "    }\n",
       "</style>\n",
       "<table border=\"1\" class=\"dataframe\">\n",
       "  <thead>\n",
       "    <tr style=\"text-align: right;\">\n",
       "      <th></th>\n",
       "      <th>city</th>\n",
       "      <th>boolean</th>\n",
       "      <th>ordinal_column</th>\n",
       "      <th>quantitative_column</th>\n",
       "    </tr>\n",
       "  </thead>\n",
       "  <tbody>\n",
       "    <tr>\n",
       "      <th>0</th>\n",
       "      <td>tokyo</td>\n",
       "      <td>yes</td>\n",
       "      <td>somewhat like</td>\n",
       "      <td>1.0</td>\n",
       "    </tr>\n",
       "    <tr>\n",
       "      <th>1</th>\n",
       "      <td>None</td>\n",
       "      <td>no</td>\n",
       "      <td>like</td>\n",
       "      <td>11.0</td>\n",
       "    </tr>\n",
       "    <tr>\n",
       "      <th>2</th>\n",
       "      <td>london</td>\n",
       "      <td>None</td>\n",
       "      <td>somewhat like</td>\n",
       "      <td>-0.5</td>\n",
       "    </tr>\n",
       "    <tr>\n",
       "      <th>3</th>\n",
       "      <td>seattle</td>\n",
       "      <td>no</td>\n",
       "      <td>like</td>\n",
       "      <td>10.0</td>\n",
       "    </tr>\n",
       "    <tr>\n",
       "      <th>4</th>\n",
       "      <td>san francisco</td>\n",
       "      <td>no</td>\n",
       "      <td>somewhat like</td>\n",
       "      <td>NaN</td>\n",
       "    </tr>\n",
       "  </tbody>\n",
       "</table>\n",
       "</div>"
      ],
      "text/plain": [
       "            city boolean ordinal_column  quantitative_column\n",
       "0          tokyo     yes  somewhat like                  1.0\n",
       "1           None      no           like                 11.0\n",
       "2         london    None  somewhat like                 -0.5\n",
       "3        seattle      no           like                 10.0\n",
       "4  san francisco      no  somewhat like                  NaN"
      ]
     },
     "execution_count": 3,
     "metadata": {},
     "output_type": "execute_result"
    }
   ],
   "source": [
    "X_data.head()"
   ]
  },
  {
   "cell_type": "markdown",
   "metadata": {},
   "source": [
    "From the above, the table consists of several columns that are:\n",
    "- boolen, is a binary categorical data (e.g. yes or no) and this is at the nominal level.\n",
    "- city, is categorical data and is at the nominal level.\n",
    "- ordinal_column, is a column of ordinal data and at an ordinal level.\n",
    "- quantitative_column, contains integers that are at the ratio level.\n",
    "\n",
    "## 2 - Peform Imputation on the Categorical Features:\n",
    "\n",
    "With the understanding of the dataset outlined above, this section will go through the imputation process.\n",
    "\n",
    "### 2.1 - Dealing with Missing Values:"
   ]
  },
  {
   "cell_type": "code",
   "execution_count": 4,
   "metadata": {},
   "outputs": [
    {
     "data": {
      "text/plain": [
       "city                   1\n",
       "boolean                1\n",
       "ordinal_column         0\n",
       "quantitative_column    1\n",
       "dtype: int64"
      ]
     },
     "execution_count": 4,
     "metadata": {},
     "output_type": "execute_result"
    }
   ],
   "source": [
    "# Find missing values in the dataset:\n",
    "X_data.isnull().sum()"
   ]
  },
  {
   "cell_type": "markdown",
   "metadata": {},
   "source": [
    "The output shows that there are 3 missing values in the stated columns. These value will require imputation.\n",
    "\n",
    "Next, a custom transformer will be implemented, where it is a method that will impute the missing values in a column.\n",
    "\n",
    "#### For the \"City\" Column:\n",
    "\n",
    "As mentioned, this column is categorical, which means the imputation strategy is fill the missing with the most common category."
   ]
  },
  {
   "cell_type": "code",
   "execution_count": 5,
   "metadata": {},
   "outputs": [
    {
     "data": {
      "text/plain": [
       "'tokyo'"
      ]
     },
     "execution_count": 5,
     "metadata": {},
     "output_type": "execute_result"
    }
   ],
   "source": [
    "# Find the most common category in this column:\n",
    "X_data['city'].value_counts().index[0]"
   ]
  },
  {
   "cell_type": "markdown",
   "metadata": {},
   "source": [
    "Here, Tokyo was the most frequent. Next is to impute the missing row."
   ]
  },
  {
   "cell_type": "code",
   "execution_count": 6,
   "metadata": {},
   "outputs": [
    {
     "data": {
      "text/plain": [
       "0            tokyo\n",
       "1            tokyo\n",
       "2           london\n",
       "3          seattle\n",
       "4    san francisco\n",
       "5            tokyo\n",
       "Name: city, dtype: object"
      ]
     },
     "execution_count": 6,
     "metadata": {},
     "output_type": "execute_result"
    }
   ],
   "source": [
    "X_data['city'].fillna(value=X_data['city'].value_counts().index[0])"
   ]
  },
  {
   "cell_type": "markdown",
   "metadata": {},
   "source": [
    "Now that the imputation worked nicely, the next part would be to fix the remaining categorical columns. To do this, a custom imputer will be made.\n",
    "\n",
    "### 2.2 -  Build Custom Imputer:\n",
    "\n",
    "Pipeline are an assembly of steps (transformations) that can be cross-validated together while allowing the setting of different parameters.\n",
    "\n",
    "Building a pipeline allows for the following:\n",
    "1. Enables the application of sequential list of transformations before a final estimator.\n",
    "2. Each intermediate steps of the pipeline are \"transforms\" (a fit and transform method).\n",
    "3. The last layer is the final Estimator (which is a fit method).\n",
    "\n",
    "The pipeline will have the built transformers for each of the coloumns that requires imputing, where the dataset will be passed and transformed in one go. \n",
    "\n",
    "#### Custom Category Imputer:\n",
    "\n",
    "Here, the \"TransformerMixin\" class from scikit-learn will be utlised to build the custom categorical imputer. Note that this transformer is only one of the element in the pipeline, where in this case, it would be dealing with categorical data."
   ]
  },
  {
   "cell_type": "code",
   "execution_count": 7,
   "metadata": {},
   "outputs": [],
   "source": [
    "# Import the required library:\n",
    "from sklearn.base import TransformerMixin"
   ]
  },
  {
   "cell_type": "code",
   "execution_count": 8,
   "metadata": {},
   "outputs": [],
   "source": [
    "# Define the Custom category imputer Class:\n",
    "\n",
    "class CustomCategoryImputer(TransformerMixin):\n",
    "    \"\"\" This builds the Custom Category Imputer, that inherits the TransformerMixin class.\n",
    "        The inheritance should have a .fit_transform method to call with .fit and .transform methods.\n",
    "    \n",
    "    \"\"\"\n",
    "    # Initialise one instance attribute, the columns:\n",
    "    def __init__(self, cols=None):\n",
    "        self.cols = cols\n",
    "    \n",
    "    # Fill the missing column values:\n",
    "    def transform(self, dataFrame):\n",
    "        X = dataFrame.copy()\n",
    "        \n",
    "        for col in self.cols:\n",
    "            X[col].fillna(value=X[col].value_counts().index[0], inplace=True)\n",
    "            \n",
    "        return X\n",
    "    \n",
    "    # Fit method, that follows the fit method from scikit-learn:\n",
    "    def fit(self, *_):\n",
    "        return self\n",
    "    "
   ]
  },
  {
   "cell_type": "markdown",
   "metadata": {},
   "source": [
    "With the above imputer completed, it can be used on the \"city\" and \"boolean\" (categorical) columns."
   ]
  },
  {
   "cell_type": "code",
   "execution_count": 9,
   "metadata": {},
   "outputs": [
    {
     "data": {
      "text/html": [
       "<div>\n",
       "<style scoped>\n",
       "    .dataframe tbody tr th:only-of-type {\n",
       "        vertical-align: middle;\n",
       "    }\n",
       "\n",
       "    .dataframe tbody tr th {\n",
       "        vertical-align: top;\n",
       "    }\n",
       "\n",
       "    .dataframe thead th {\n",
       "        text-align: right;\n",
       "    }\n",
       "</style>\n",
       "<table border=\"1\" class=\"dataframe\">\n",
       "  <thead>\n",
       "    <tr style=\"text-align: right;\">\n",
       "      <th></th>\n",
       "      <th>city</th>\n",
       "      <th>boolean</th>\n",
       "      <th>ordinal_column</th>\n",
       "      <th>quantitative_column</th>\n",
       "    </tr>\n",
       "  </thead>\n",
       "  <tbody>\n",
       "    <tr>\n",
       "      <th>0</th>\n",
       "      <td>tokyo</td>\n",
       "      <td>yes</td>\n",
       "      <td>somewhat like</td>\n",
       "      <td>1.0</td>\n",
       "    </tr>\n",
       "    <tr>\n",
       "      <th>1</th>\n",
       "      <td>tokyo</td>\n",
       "      <td>no</td>\n",
       "      <td>like</td>\n",
       "      <td>11.0</td>\n",
       "    </tr>\n",
       "    <tr>\n",
       "      <th>2</th>\n",
       "      <td>london</td>\n",
       "      <td>no</td>\n",
       "      <td>somewhat like</td>\n",
       "      <td>-0.5</td>\n",
       "    </tr>\n",
       "    <tr>\n",
       "      <th>3</th>\n",
       "      <td>seattle</td>\n",
       "      <td>no</td>\n",
       "      <td>like</td>\n",
       "      <td>10.0</td>\n",
       "    </tr>\n",
       "    <tr>\n",
       "      <th>4</th>\n",
       "      <td>san francisco</td>\n",
       "      <td>no</td>\n",
       "      <td>somewhat like</td>\n",
       "      <td>NaN</td>\n",
       "    </tr>\n",
       "    <tr>\n",
       "      <th>5</th>\n",
       "      <td>tokyo</td>\n",
       "      <td>yes</td>\n",
       "      <td>dislike</td>\n",
       "      <td>20.0</td>\n",
       "    </tr>\n",
       "  </tbody>\n",
       "</table>\n",
       "</div>"
      ],
      "text/plain": [
       "            city boolean ordinal_column  quantitative_column\n",
       "0          tokyo     yes  somewhat like                  1.0\n",
       "1          tokyo      no           like                 11.0\n",
       "2         london      no  somewhat like                 -0.5\n",
       "3        seattle      no           like                 10.0\n",
       "4  san francisco      no  somewhat like                  NaN\n",
       "5          tokyo     yes        dislike                 20.0"
      ]
     },
     "execution_count": 9,
     "metadata": {},
     "output_type": "execute_result"
    }
   ],
   "source": [
    "# Apply the custom imputer, instantiate:\n",
    "cci = CustomCategoryImputer(cols=['city', 'boolean'])\n",
    "\n",
    "# Fit and transform on the dataset:\n",
    "cci.fit_transform(X_data)"
   ]
  },
  {
   "cell_type": "markdown",
   "metadata": {},
   "source": [
    "The missing values in both columns have now been filled.\n",
    "\n",
    "### 2.3 - Build Custom Quantitative Imputer:\n",
    "\n",
    "The Custom Quantitative Imputer will be similar to the previous one, but will contain an added \"strategy\" parameter that accounts for quantitative data."
   ]
  },
  {
   "cell_type": "code",
   "execution_count": 10,
   "metadata": {},
   "outputs": [],
   "source": [
    "# Import the required package:\n",
    "from sklearn.impute import SimpleImputer"
   ]
  },
  {
   "cell_type": "code",
   "execution_count": 13,
   "metadata": {},
   "outputs": [],
   "source": [
    "# Define the Custom Quantitative imputer Class:\n",
    "\n",
    "class CustomQuantitativeImputer(TransformerMixin):\n",
    "    \"\"\" This builds the Custom Quantitative Imputer, that inherits the TransformerMixin class.\n",
    "        The inheritance should have a .fit_transform method to call with .fit and .transform methods.\n",
    "    Note:\n",
    "        - requires SimpleImputer from sklearn.impute .\n",
    "    \"\"\"\n",
    "    # Initialise one instance attribute, the columns:\n",
    "    def __init__(self, cols=None, strategy='mean'):\n",
    "        self.cols = cols\n",
    "        self.strategy = strategy\n",
    "    \n",
    "    # Fill the missing column values:\n",
    "    def transform(self, dataFrame):\n",
    "        X = dataFrame.copy()\n",
    "        \n",
    "        imputer = SimpleImputer(strategy=self.strategy)\n",
    "        \n",
    "        # Note the double brackets:\n",
    "        for col in self.cols:\n",
    "            X[col] = imputer.fit_transform(X[[col]])\n",
    "            \n",
    "        return X\n",
    "    \n",
    "    # Fit method, that follows the fit method from scikit-learn:\n",
    "    def fit(self, *_):\n",
    "        return self\n",
    "    "
   ]
  },
  {
   "cell_type": "markdown",
   "metadata": {},
   "source": [
    "With the above imputer completed, it can be used on the \"quantitative_column\"."
   ]
  },
  {
   "cell_type": "code",
   "execution_count": 14,
   "metadata": {},
   "outputs": [
    {
     "data": {
      "text/html": [
       "<div>\n",
       "<style scoped>\n",
       "    .dataframe tbody tr th:only-of-type {\n",
       "        vertical-align: middle;\n",
       "    }\n",
       "\n",
       "    .dataframe tbody tr th {\n",
       "        vertical-align: top;\n",
       "    }\n",
       "\n",
       "    .dataframe thead th {\n",
       "        text-align: right;\n",
       "    }\n",
       "</style>\n",
       "<table border=\"1\" class=\"dataframe\">\n",
       "  <thead>\n",
       "    <tr style=\"text-align: right;\">\n",
       "      <th></th>\n",
       "      <th>city</th>\n",
       "      <th>boolean</th>\n",
       "      <th>ordinal_column</th>\n",
       "      <th>quantitative_column</th>\n",
       "    </tr>\n",
       "  </thead>\n",
       "  <tbody>\n",
       "    <tr>\n",
       "      <th>0</th>\n",
       "      <td>tokyo</td>\n",
       "      <td>yes</td>\n",
       "      <td>somewhat like</td>\n",
       "      <td>1.0</td>\n",
       "    </tr>\n",
       "    <tr>\n",
       "      <th>1</th>\n",
       "      <td>None</td>\n",
       "      <td>no</td>\n",
       "      <td>like</td>\n",
       "      <td>11.0</td>\n",
       "    </tr>\n",
       "    <tr>\n",
       "      <th>2</th>\n",
       "      <td>london</td>\n",
       "      <td>None</td>\n",
       "      <td>somewhat like</td>\n",
       "      <td>-0.5</td>\n",
       "    </tr>\n",
       "    <tr>\n",
       "      <th>3</th>\n",
       "      <td>seattle</td>\n",
       "      <td>no</td>\n",
       "      <td>like</td>\n",
       "      <td>10.0</td>\n",
       "    </tr>\n",
       "    <tr>\n",
       "      <th>4</th>\n",
       "      <td>san francisco</td>\n",
       "      <td>no</td>\n",
       "      <td>somewhat like</td>\n",
       "      <td>8.3</td>\n",
       "    </tr>\n",
       "    <tr>\n",
       "      <th>5</th>\n",
       "      <td>tokyo</td>\n",
       "      <td>yes</td>\n",
       "      <td>dislike</td>\n",
       "      <td>20.0</td>\n",
       "    </tr>\n",
       "  </tbody>\n",
       "</table>\n",
       "</div>"
      ],
      "text/plain": [
       "            city boolean ordinal_column  quantitative_column\n",
       "0          tokyo     yes  somewhat like                  1.0\n",
       "1           None      no           like                 11.0\n",
       "2         london    None  somewhat like                 -0.5\n",
       "3        seattle      no           like                 10.0\n",
       "4  san francisco      no  somewhat like                  8.3\n",
       "5          tokyo     yes        dislike                 20.0"
      ]
     },
     "execution_count": 14,
     "metadata": {},
     "output_type": "execute_result"
    }
   ],
   "source": [
    "# Apply the custom imputer, instantiate:\n",
    "cqi = CustomQuantitativeImputer(cols=['quantitative_column'], strategy='mean')\n",
    "\n",
    "# Fit and transform on the dataset:\n",
    "cqi.fit_transform(X_data)"
   ]
  },
  {
   "cell_type": "markdown",
   "metadata": {},
   "source": [
    "### 2.4 - Implement Imputers in the Pipeline:\n",
    "\n",
    "Use both the CustomCategoryImputer and CustomQuantitativeImputer in a pipeline to impute the missing values for both Categorical and Quantitative values."
   ]
  },
  {
   "cell_type": "code",
   "execution_count": 15,
   "metadata": {},
   "outputs": [],
   "source": [
    "# Import the required library:\n",
    "from sklearn.pipeline import Pipeline"
   ]
  },
  {
   "cell_type": "code",
   "execution_count": 16,
   "metadata": {},
   "outputs": [
    {
     "data": {
      "text/html": [
       "<div>\n",
       "<style scoped>\n",
       "    .dataframe tbody tr th:only-of-type {\n",
       "        vertical-align: middle;\n",
       "    }\n",
       "\n",
       "    .dataframe tbody tr th {\n",
       "        vertical-align: top;\n",
       "    }\n",
       "\n",
       "    .dataframe thead th {\n",
       "        text-align: right;\n",
       "    }\n",
       "</style>\n",
       "<table border=\"1\" class=\"dataframe\">\n",
       "  <thead>\n",
       "    <tr style=\"text-align: right;\">\n",
       "      <th></th>\n",
       "      <th>city</th>\n",
       "      <th>boolean</th>\n",
       "      <th>ordinal_column</th>\n",
       "      <th>quantitative_column</th>\n",
       "    </tr>\n",
       "  </thead>\n",
       "  <tbody>\n",
       "    <tr>\n",
       "      <th>0</th>\n",
       "      <td>tokyo</td>\n",
       "      <td>yes</td>\n",
       "      <td>somewhat like</td>\n",
       "      <td>1.0</td>\n",
       "    </tr>\n",
       "    <tr>\n",
       "      <th>1</th>\n",
       "      <td>tokyo</td>\n",
       "      <td>no</td>\n",
       "      <td>like</td>\n",
       "      <td>11.0</td>\n",
       "    </tr>\n",
       "    <tr>\n",
       "      <th>2</th>\n",
       "      <td>london</td>\n",
       "      <td>no</td>\n",
       "      <td>somewhat like</td>\n",
       "      <td>-0.5</td>\n",
       "    </tr>\n",
       "    <tr>\n",
       "      <th>3</th>\n",
       "      <td>seattle</td>\n",
       "      <td>no</td>\n",
       "      <td>like</td>\n",
       "      <td>10.0</td>\n",
       "    </tr>\n",
       "    <tr>\n",
       "      <th>4</th>\n",
       "      <td>san francisco</td>\n",
       "      <td>no</td>\n",
       "      <td>somewhat like</td>\n",
       "      <td>8.3</td>\n",
       "    </tr>\n",
       "    <tr>\n",
       "      <th>5</th>\n",
       "      <td>tokyo</td>\n",
       "      <td>yes</td>\n",
       "      <td>dislike</td>\n",
       "      <td>20.0</td>\n",
       "    </tr>\n",
       "  </tbody>\n",
       "</table>\n",
       "</div>"
      ],
      "text/plain": [
       "            city boolean ordinal_column  quantitative_column\n",
       "0          tokyo     yes  somewhat like                  1.0\n",
       "1          tokyo      no           like                 11.0\n",
       "2         london      no  somewhat like                 -0.5\n",
       "3        seattle      no           like                 10.0\n",
       "4  san francisco      no  somewhat like                  8.3\n",
       "5          tokyo     yes        dislike                 20.0"
      ]
     },
     "execution_count": 16,
     "metadata": {},
     "output_type": "execute_result"
    }
   ],
   "source": [
    "# Apply the custom imputer, instantiate:\n",
    "cci = CustomCategoryImputer(cols=['city', 'boolean'])\n",
    "\n",
    "# Apply the custom imputer, instantiate:\n",
    "cqi = CustomQuantitativeImputer(cols=['quantitative_column'], strategy='mean')\n",
    "\n",
    "# Pipeline:\n",
    "pipeline_imputer = Pipeline(steps=[('quant', cqi), \n",
    "                                   ('category', cci)] \n",
    "                           )\n",
    "\n",
    "# Fit and transform on the dataset:\n",
    "pipeline_imputer.fit_transform(X_data)"
   ]
  },
  {
   "cell_type": "markdown",
   "metadata": {},
   "source": [
    "## 3 - Applying encoding techniques to categorical variables:\n",
    "\n",
    "### 3.1 - "
   ]
  },
  {
   "cell_type": "code",
   "execution_count": null,
   "metadata": {},
   "outputs": [],
   "source": []
  },
  {
   "cell_type": "code",
   "execution_count": null,
   "metadata": {},
   "outputs": [],
   "source": []
  },
  {
   "cell_type": "code",
   "execution_count": null,
   "metadata": {},
   "outputs": [],
   "source": []
  },
  {
   "cell_type": "code",
   "execution_count": null,
   "metadata": {},
   "outputs": [],
   "source": []
  },
  {
   "cell_type": "code",
   "execution_count": null,
   "metadata": {},
   "outputs": [],
   "source": []
  },
  {
   "cell_type": "code",
   "execution_count": null,
   "metadata": {},
   "outputs": [],
   "source": []
  },
  {
   "cell_type": "code",
   "execution_count": null,
   "metadata": {},
   "outputs": [],
   "source": []
  },
  {
   "cell_type": "code",
   "execution_count": null,
   "metadata": {},
   "outputs": [],
   "source": []
  },
  {
   "cell_type": "code",
   "execution_count": null,
   "metadata": {},
   "outputs": [],
   "source": []
  },
  {
   "cell_type": "code",
   "execution_count": null,
   "metadata": {},
   "outputs": [],
   "source": []
  },
  {
   "cell_type": "code",
   "execution_count": null,
   "metadata": {},
   "outputs": [],
   "source": []
  },
  {
   "cell_type": "code",
   "execution_count": null,
   "metadata": {},
   "outputs": [],
   "source": []
  }
 ],
 "metadata": {
  "kernelspec": {
   "display_name": "Python 3",
   "language": "python",
   "name": "python3"
  },
  "language_info": {
   "codemirror_mode": {
    "name": "ipython",
    "version": 3
   },
   "file_extension": ".py",
   "mimetype": "text/x-python",
   "name": "python",
   "nbconvert_exporter": "python",
   "pygments_lexer": "ipython3",
   "version": "3.7.7"
  }
 },
 "nbformat": 4,
 "nbformat_minor": 4
}
