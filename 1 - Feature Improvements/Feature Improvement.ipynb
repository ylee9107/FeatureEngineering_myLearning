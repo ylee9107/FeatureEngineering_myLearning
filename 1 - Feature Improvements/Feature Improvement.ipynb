{
 "cells": [
  {
   "cell_type": "markdown",
   "metadata": {},
   "source": [
    "# 3 - Feature Improvement\n",
    "\n",
    "## Introduction:\n",
    "\n",
    "For this project, the aim would be to explore the dataset, apply techniques to clean and augment the data samples where it is needed and predict the final class variable (0 or 1) where if the patient develops diabetes or not. The cleaning process involves altering columns and rows of the dataset, whereas augmenting would to remove the columns and adding columns to the dataset.\n",
    "\n",
    "## Breakdown of this Project:\n",
    "- Identify missing values within the dataset.\n",
    "- Removal of any harmful data points/samples.\n",
    "- Imputing missing values in the dataset. \n",
    "- Nomarlising or Standardising the dataset. \n",
    "- Constructing new features in the dataset. \n",
    "- Selecting or Removing features both manually and automatically. \n",
    "- Utilising matrix computations to transform datasets into different dimensions. \n",
    "\n",
    "## Datasets:\n",
    "\n",
    "This dataset is called Pima Indian Diabetes Prediction and was obtained from the UCI Machine Learning Repository. It can be found in the link below or within this repository.\n",
    "\n",
    "This dataset consists of 9 columns with 768 rows of data. The usage of this dataset was intended to be used for predicting the onset of diabetes in patients within the next five years to come for females. The females here are from the Pima Indian Heritage where they are of age 21 and over. \n",
    "\n",
    "### Preview of the columns in this dataset:\n",
    "\n",
    "1. Number of times pregnant.\n",
    "2. Plasma Glucose Concentration (2 hrs in an oral glucose tolerance test).\n",
    "3. Diatolic Blood Pressure (mm Hg)\n",
    "4. Triceps skinfold thickness (mm)\n",
    "5. 2-Hr serum insuli measurement (mu U/ml)\n",
    "6. Body mass index ( weight in kg/height in $m^{2}$ )\n",
    "7. Diabetes pedigree funcntion.\n",
    "8. Age (yrs)\n",
    "9. Class Variable (0 or 1) - used for prediction.\n",
    "\n",
    "Dataset Source: https://archive.ics.uci.edu/ml/datasets/pima+indians+diabetes\n",
    "\n",
    "## Requirements:\n",
    "\n",
    "- Pandas\n",
    "- Numpy\n",
    "- Matplotlib\n",
    "- Seaborn\n",
    "\n",
    "\n",
    "## 1 - Import the Required Libraries:"
   ]
  },
  {
   "cell_type": "code",
   "execution_count": 1,
   "metadata": {},
   "outputs": [],
   "source": [
    "import pandas as pd  \n",
    "import numpy as np  \n",
    "import matplotlib.pyplot as plt \n",
    "import seaborn as sns  \n",
    "import os\n",
    "%matplotlib inline  \n",
    "\n",
    "# Apply the visualisation theme:\n",
    "plt.style.use('fivethirtyeight') "
   ]
  },
  {
   "cell_type": "markdown",
   "metadata": {},
   "source": [
    "## 2 - Load in the Dataset:"
   ]
  },
  {
   "cell_type": "code",
   "execution_count": 2,
   "metadata": {},
   "outputs": [],
   "source": [
    "# Set up pathway to folder:\n",
    "current_directory = os.getcwd()\n",
    "\n",
    "dataset_path = os.path.dirname(os.path.realpath(current_directory + '/Dataset/'))\n",
    "dataset_path = dataset_path + '/Dataset/'\n",
    "# print(dataset_path)"
   ]
  },
  {
   "cell_type": "code",
   "execution_count": 3,
   "metadata": {},
   "outputs": [],
   "source": [
    "# Dataset:\n",
    "pima_diabetes_dat = pd.read_csv(dataset_path + 'pima.data')"
   ]
  },
  {
   "cell_type": "markdown",
   "metadata": {},
   "source": [
    "### 2.1 - Checkout the Pima Dataset:"
   ]
  },
  {
   "cell_type": "code",
   "execution_count": 4,
   "metadata": {},
   "outputs": [
    {
     "data": {
      "text/html": [
       "<div>\n",
       "<style scoped>\n",
       "    .dataframe tbody tr th:only-of-type {\n",
       "        vertical-align: middle;\n",
       "    }\n",
       "\n",
       "    .dataframe tbody tr th {\n",
       "        vertical-align: top;\n",
       "    }\n",
       "\n",
       "    .dataframe thead th {\n",
       "        text-align: right;\n",
       "    }\n",
       "</style>\n",
       "<table border=\"1\" class=\"dataframe\">\n",
       "  <thead>\n",
       "    <tr style=\"text-align: right;\">\n",
       "      <th></th>\n",
       "      <th>6</th>\n",
       "      <th>148</th>\n",
       "      <th>72</th>\n",
       "      <th>35</th>\n",
       "      <th>0</th>\n",
       "      <th>33.6</th>\n",
       "      <th>0.627</th>\n",
       "      <th>50</th>\n",
       "      <th>1</th>\n",
       "    </tr>\n",
       "  </thead>\n",
       "  <tbody>\n",
       "    <tr>\n",
       "      <th>0</th>\n",
       "      <td>1</td>\n",
       "      <td>85</td>\n",
       "      <td>66</td>\n",
       "      <td>29</td>\n",
       "      <td>0</td>\n",
       "      <td>26.6</td>\n",
       "      <td>0.351</td>\n",
       "      <td>31</td>\n",
       "      <td>0</td>\n",
       "    </tr>\n",
       "    <tr>\n",
       "      <th>1</th>\n",
       "      <td>8</td>\n",
       "      <td>183</td>\n",
       "      <td>64</td>\n",
       "      <td>0</td>\n",
       "      <td>0</td>\n",
       "      <td>23.3</td>\n",
       "      <td>0.672</td>\n",
       "      <td>32</td>\n",
       "      <td>1</td>\n",
       "    </tr>\n",
       "    <tr>\n",
       "      <th>2</th>\n",
       "      <td>1</td>\n",
       "      <td>89</td>\n",
       "      <td>66</td>\n",
       "      <td>23</td>\n",
       "      <td>94</td>\n",
       "      <td>28.1</td>\n",
       "      <td>0.167</td>\n",
       "      <td>21</td>\n",
       "      <td>0</td>\n",
       "    </tr>\n",
       "    <tr>\n",
       "      <th>3</th>\n",
       "      <td>0</td>\n",
       "      <td>137</td>\n",
       "      <td>40</td>\n",
       "      <td>35</td>\n",
       "      <td>168</td>\n",
       "      <td>43.1</td>\n",
       "      <td>2.288</td>\n",
       "      <td>33</td>\n",
       "      <td>1</td>\n",
       "    </tr>\n",
       "    <tr>\n",
       "      <th>4</th>\n",
       "      <td>5</td>\n",
       "      <td>116</td>\n",
       "      <td>74</td>\n",
       "      <td>0</td>\n",
       "      <td>0</td>\n",
       "      <td>25.6</td>\n",
       "      <td>0.201</td>\n",
       "      <td>30</td>\n",
       "      <td>0</td>\n",
       "    </tr>\n",
       "  </tbody>\n",
       "</table>\n",
       "</div>"
      ],
      "text/plain": [
       "   6  148  72  35    0  33.6  0.627  50  1\n",
       "0  1   85  66  29    0  26.6  0.351  31  0\n",
       "1  8  183  64   0    0  23.3  0.672  32  1\n",
       "2  1   89  66  23   94  28.1  0.167  21  0\n",
       "3  0  137  40  35  168  43.1  2.288  33  1\n",
       "4  5  116  74   0    0  25.6  0.201  30  0"
      ]
     },
     "execution_count": 4,
     "metadata": {},
     "output_type": "execute_result"
    }
   ],
   "source": [
    "pima_diabetes_dat.head()"
   ]
  },
  {
   "cell_type": "markdown",
   "metadata": {},
   "source": [
    "Seems like the column names are missing. To fix this, the column names will be included manually as follows:"
   ]
  },
  {
   "cell_type": "code",
   "execution_count": 5,
   "metadata": {},
   "outputs": [
    {
     "data": {
      "text/html": [
       "<div>\n",
       "<style scoped>\n",
       "    .dataframe tbody tr th:only-of-type {\n",
       "        vertical-align: middle;\n",
       "    }\n",
       "\n",
       "    .dataframe tbody tr th {\n",
       "        vertical-align: top;\n",
       "    }\n",
       "\n",
       "    .dataframe thead th {\n",
       "        text-align: right;\n",
       "    }\n",
       "</style>\n",
       "<table border=\"1\" class=\"dataframe\">\n",
       "  <thead>\n",
       "    <tr style=\"text-align: right;\">\n",
       "      <th></th>\n",
       "      <th>times_pregnant</th>\n",
       "      <th>plasma_glucose_concentration</th>\n",
       "      <th>diastolic_blood_pressure</th>\n",
       "      <th>triceps_thickness</th>\n",
       "      <th>serum_insulin</th>\n",
       "      <th>bmi</th>\n",
       "      <th>pedigree_function</th>\n",
       "      <th>age</th>\n",
       "      <th>onset_diabetes</th>\n",
       "    </tr>\n",
       "  </thead>\n",
       "  <tbody>\n",
       "    <tr>\n",
       "      <th>0</th>\n",
       "      <td>6</td>\n",
       "      <td>148</td>\n",
       "      <td>72</td>\n",
       "      <td>35</td>\n",
       "      <td>0</td>\n",
       "      <td>33.6</td>\n",
       "      <td>0.627</td>\n",
       "      <td>50</td>\n",
       "      <td>1</td>\n",
       "    </tr>\n",
       "    <tr>\n",
       "      <th>1</th>\n",
       "      <td>1</td>\n",
       "      <td>85</td>\n",
       "      <td>66</td>\n",
       "      <td>29</td>\n",
       "      <td>0</td>\n",
       "      <td>26.6</td>\n",
       "      <td>0.351</td>\n",
       "      <td>31</td>\n",
       "      <td>0</td>\n",
       "    </tr>\n",
       "    <tr>\n",
       "      <th>2</th>\n",
       "      <td>8</td>\n",
       "      <td>183</td>\n",
       "      <td>64</td>\n",
       "      <td>0</td>\n",
       "      <td>0</td>\n",
       "      <td>23.3</td>\n",
       "      <td>0.672</td>\n",
       "      <td>32</td>\n",
       "      <td>1</td>\n",
       "    </tr>\n",
       "    <tr>\n",
       "      <th>3</th>\n",
       "      <td>1</td>\n",
       "      <td>89</td>\n",
       "      <td>66</td>\n",
       "      <td>23</td>\n",
       "      <td>94</td>\n",
       "      <td>28.1</td>\n",
       "      <td>0.167</td>\n",
       "      <td>21</td>\n",
       "      <td>0</td>\n",
       "    </tr>\n",
       "    <tr>\n",
       "      <th>4</th>\n",
       "      <td>0</td>\n",
       "      <td>137</td>\n",
       "      <td>40</td>\n",
       "      <td>35</td>\n",
       "      <td>168</td>\n",
       "      <td>43.1</td>\n",
       "      <td>2.288</td>\n",
       "      <td>33</td>\n",
       "      <td>1</td>\n",
       "    </tr>\n",
       "  </tbody>\n",
       "</table>\n",
       "</div>"
      ],
      "text/plain": [
       "   times_pregnant  plasma_glucose_concentration  diastolic_blood_pressure  \\\n",
       "0               6                           148                        72   \n",
       "1               1                            85                        66   \n",
       "2               8                           183                        64   \n",
       "3               1                            89                        66   \n",
       "4               0                           137                        40   \n",
       "\n",
       "   triceps_thickness  serum_insulin   bmi  pedigree_function  age  \\\n",
       "0                 35              0  33.6              0.627   50   \n",
       "1                 29              0  26.6              0.351   31   \n",
       "2                  0              0  23.3              0.672   32   \n",
       "3                 23             94  28.1              0.167   21   \n",
       "4                 35            168  43.1              2.288   33   \n",
       "\n",
       "   onset_diabetes  \n",
       "0               1  \n",
       "1               0  \n",
       "2               1  \n",
       "3               0  \n",
       "4               1  "
      ]
     },
     "execution_count": 5,
     "metadata": {},
     "output_type": "execute_result"
    }
   ],
   "source": [
    "# Specify the Column Names:\n",
    "col_names = ['times_pregnant', 'plasma_glucose_concentration', 'diastolic_blood_pressure', \n",
    "             'triceps_thickness', 'serum_insulin', 'bmi', 'pedigree_function', 'age', \n",
    "             'onset_diabetes']\n",
    "\n",
    "# Include the Column Names into the dataset:\n",
    "pima_diabetes_dat = pd.read_csv(dataset_path + 'pima.data', names = col_names)\n",
    "\n",
    "# Checkout the dataset:\n",
    "pima_diabetes_dat.head()"
   ]
  },
  {
   "cell_type": "code",
   "execution_count": 6,
   "metadata": {},
   "outputs": [
    {
     "name": "stdout",
     "output_type": "stream",
     "text": [
      "<class 'pandas.core.frame.DataFrame'>\n",
      "RangeIndex: 768 entries, 0 to 767\n",
      "Data columns (total 9 columns):\n",
      " #   Column                        Non-Null Count  Dtype  \n",
      "---  ------                        --------------  -----  \n",
      " 0   times_pregnant                768 non-null    int64  \n",
      " 1   plasma_glucose_concentration  768 non-null    int64  \n",
      " 2   diastolic_blood_pressure      768 non-null    int64  \n",
      " 3   triceps_thickness             768 non-null    int64  \n",
      " 4   serum_insulin                 768 non-null    int64  \n",
      " 5   bmi                           768 non-null    float64\n",
      " 6   pedigree_function             768 non-null    float64\n",
      " 7   age                           768 non-null    int64  \n",
      " 8   onset_diabetes                768 non-null    int64  \n",
      "dtypes: float64(2), int64(7)\n",
      "memory usage: 54.1 KB\n"
     ]
    }
   ],
   "source": [
    "pima_diabetes_dat.info()"
   ]
  },
  {
   "cell_type": "markdown",
   "metadata": {},
   "source": [
    "## 3 - EDA: Exploratory Data Analysis.\n",
    "\n",
    "This section will go through showing some basic statistics, selection and visualisations of the dataset.\n",
    "\n",
    "### 3.1 - Basic Statistics:\n",
    "\n",
    "Taking a look into the 'onser_diabetes' column to determine how many people did or did not develop diabetes."
   ]
  },
  {
   "cell_type": "code",
   "execution_count": 7,
   "metadata": {},
   "outputs": [
    {
     "data": {
      "text/plain": [
       "0    0.651042\n",
       "1    0.348958\n",
       "Name: onset_diabetes, dtype: float64"
      ]
     },
     "execution_count": 7,
     "metadata": {},
     "output_type": "execute_result"
    }
   ],
   "source": [
    "# Onset Diabetes patients:\n",
    "pima_diabetes_dat['onset_diabetes'].value_counts(normalize = True)"
   ]
  },
  {
   "cell_type": "markdown",
   "metadata": {},
   "source": [
    "From the above counts, it can be seen that ~35% of the population did get diabetes while ~65% of the people did not. Note that the goal here, as mentioned above in the introduction, is to predict the onset of diabetes based on the patterns within the data. The next stage would be visualise any differences between the patients that did and did not develop diabetes.\n",
    "\n",
    "### 3.2 - Descriptive Statistics:\n",
    "\n",
    "This will provide basic statistics such as the mean, standard deviation and percentile intervals for the data."
   ]
  },
  {
   "cell_type": "code",
   "execution_count": 8,
   "metadata": {},
   "outputs": [
    {
     "data": {
      "text/html": [
       "<div>\n",
       "<style scoped>\n",
       "    .dataframe tbody tr th:only-of-type {\n",
       "        vertical-align: middle;\n",
       "    }\n",
       "\n",
       "    .dataframe tbody tr th {\n",
       "        vertical-align: top;\n",
       "    }\n",
       "\n",
       "    .dataframe thead th {\n",
       "        text-align: right;\n",
       "    }\n",
       "</style>\n",
       "<table border=\"1\" class=\"dataframe\">\n",
       "  <thead>\n",
       "    <tr style=\"text-align: right;\">\n",
       "      <th></th>\n",
       "      <th>times_pregnant</th>\n",
       "      <th>plasma_glucose_concentration</th>\n",
       "      <th>diastolic_blood_pressure</th>\n",
       "      <th>triceps_thickness</th>\n",
       "      <th>serum_insulin</th>\n",
       "      <th>bmi</th>\n",
       "      <th>pedigree_function</th>\n",
       "      <th>age</th>\n",
       "      <th>onset_diabetes</th>\n",
       "    </tr>\n",
       "  </thead>\n",
       "  <tbody>\n",
       "    <tr>\n",
       "      <th>count</th>\n",
       "      <td>768.000000</td>\n",
       "      <td>768.000000</td>\n",
       "      <td>768.000000</td>\n",
       "      <td>768.000000</td>\n",
       "      <td>768.000000</td>\n",
       "      <td>768.000000</td>\n",
       "      <td>768.000000</td>\n",
       "      <td>768.000000</td>\n",
       "      <td>768.000000</td>\n",
       "    </tr>\n",
       "    <tr>\n",
       "      <th>mean</th>\n",
       "      <td>3.845052</td>\n",
       "      <td>120.894531</td>\n",
       "      <td>69.105469</td>\n",
       "      <td>20.536458</td>\n",
       "      <td>79.799479</td>\n",
       "      <td>31.992578</td>\n",
       "      <td>0.471876</td>\n",
       "      <td>33.240885</td>\n",
       "      <td>0.348958</td>\n",
       "    </tr>\n",
       "    <tr>\n",
       "      <th>std</th>\n",
       "      <td>3.369578</td>\n",
       "      <td>31.972618</td>\n",
       "      <td>19.355807</td>\n",
       "      <td>15.952218</td>\n",
       "      <td>115.244002</td>\n",
       "      <td>7.884160</td>\n",
       "      <td>0.331329</td>\n",
       "      <td>11.760232</td>\n",
       "      <td>0.476951</td>\n",
       "    </tr>\n",
       "    <tr>\n",
       "      <th>min</th>\n",
       "      <td>0.000000</td>\n",
       "      <td>0.000000</td>\n",
       "      <td>0.000000</td>\n",
       "      <td>0.000000</td>\n",
       "      <td>0.000000</td>\n",
       "      <td>0.000000</td>\n",
       "      <td>0.078000</td>\n",
       "      <td>21.000000</td>\n",
       "      <td>0.000000</td>\n",
       "    </tr>\n",
       "    <tr>\n",
       "      <th>25%</th>\n",
       "      <td>1.000000</td>\n",
       "      <td>99.000000</td>\n",
       "      <td>62.000000</td>\n",
       "      <td>0.000000</td>\n",
       "      <td>0.000000</td>\n",
       "      <td>27.300000</td>\n",
       "      <td>0.243750</td>\n",
       "      <td>24.000000</td>\n",
       "      <td>0.000000</td>\n",
       "    </tr>\n",
       "    <tr>\n",
       "      <th>50%</th>\n",
       "      <td>3.000000</td>\n",
       "      <td>117.000000</td>\n",
       "      <td>72.000000</td>\n",
       "      <td>23.000000</td>\n",
       "      <td>30.500000</td>\n",
       "      <td>32.000000</td>\n",
       "      <td>0.372500</td>\n",
       "      <td>29.000000</td>\n",
       "      <td>0.000000</td>\n",
       "    </tr>\n",
       "    <tr>\n",
       "      <th>75%</th>\n",
       "      <td>6.000000</td>\n",
       "      <td>140.250000</td>\n",
       "      <td>80.000000</td>\n",
       "      <td>32.000000</td>\n",
       "      <td>127.250000</td>\n",
       "      <td>36.600000</td>\n",
       "      <td>0.626250</td>\n",
       "      <td>41.000000</td>\n",
       "      <td>1.000000</td>\n",
       "    </tr>\n",
       "    <tr>\n",
       "      <th>max</th>\n",
       "      <td>17.000000</td>\n",
       "      <td>199.000000</td>\n",
       "      <td>122.000000</td>\n",
       "      <td>99.000000</td>\n",
       "      <td>846.000000</td>\n",
       "      <td>67.100000</td>\n",
       "      <td>2.420000</td>\n",
       "      <td>81.000000</td>\n",
       "      <td>1.000000</td>\n",
       "    </tr>\n",
       "  </tbody>\n",
       "</table>\n",
       "</div>"
      ],
      "text/plain": [
       "       times_pregnant  plasma_glucose_concentration  diastolic_blood_pressure  \\\n",
       "count      768.000000                    768.000000                768.000000   \n",
       "mean         3.845052                    120.894531                 69.105469   \n",
       "std          3.369578                     31.972618                 19.355807   \n",
       "min          0.000000                      0.000000                  0.000000   \n",
       "25%          1.000000                     99.000000                 62.000000   \n",
       "50%          3.000000                    117.000000                 72.000000   \n",
       "75%          6.000000                    140.250000                 80.000000   \n",
       "max         17.000000                    199.000000                122.000000   \n",
       "\n",
       "       triceps_thickness  serum_insulin         bmi  pedigree_function  \\\n",
       "count         768.000000     768.000000  768.000000         768.000000   \n",
       "mean           20.536458      79.799479   31.992578           0.471876   \n",
       "std            15.952218     115.244002    7.884160           0.331329   \n",
       "min             0.000000       0.000000    0.000000           0.078000   \n",
       "25%             0.000000       0.000000   27.300000           0.243750   \n",
       "50%            23.000000      30.500000   32.000000           0.372500   \n",
       "75%            32.000000     127.250000   36.600000           0.626250   \n",
       "max            99.000000     846.000000   67.100000           2.420000   \n",
       "\n",
       "              age  onset_diabetes  \n",
       "count  768.000000      768.000000  \n",
       "mean    33.240885        0.348958  \n",
       "std     11.760232        0.476951  \n",
       "min     21.000000        0.000000  \n",
       "25%     24.000000        0.000000  \n",
       "50%     29.000000        0.000000  \n",
       "75%     41.000000        1.000000  \n",
       "max     81.000000        1.000000  "
      ]
     },
     "execution_count": 8,
     "metadata": {},
     "output_type": "execute_result"
    }
   ],
   "source": [
    "pima_diabetes_dat.describe()"
   ]
  },
  {
   "cell_type": "markdown",
   "metadata": {},
   "source": [
    "### 3.3 - Visualisations: Historgram \n",
    "\n",
    "Taking a look to see how 'plasma_glucose_concentration' affects 'onset_diabetes'. Check to see if there is a pattern in the values between the classes of prediction, in terms of plasma_glucose_concentration."
   ]
  },
  {
   "cell_type": "code",
   "execution_count": 9,
   "metadata": {},
   "outputs": [
    {
     "name": "stdout",
     "output_type": "stream",
     "text": [
      "Current Plot is for bmi vs Onset Diabetes\n"
     ]
    },
    {
     "data": {
      "image/png": "[encoded data removed]",
      "text/plain": [
       "<Figure size 432x288 with 1 Axes>"
      ]
     },
     "metadata": {},
     "output_type": "display_data"
    },
    {
     "name": "stdout",
     "output_type": "stream",
     "text": [
      "\t\n",
      "Current Plot is for diastolic_blood_pressure vs Onset Diabetes\n"
     ]
    },
    {
     "data": {
      "image/png": "[encoded data removed]",
      "text/plain": [
       "<Figure size 432x288 with 1 Axes>"
      ]
     },
     "metadata": {},
     "output_type": "display_data"
    },
    {
     "name": "stdout",
     "output_type": "stream",
     "text": [
      "\t\n",
      "Current Plot is for plasma_glucose_concentration vs Onset Diabetes\n"
     ]
    },
    {
     "data": {
      "image/png": "[encoded data removed]",
      "text/plain": [
       "<Figure size 432x288 with 1 Axes>"
      ]
     },
     "metadata": {},
     "output_type": "display_data"
    },
    {
     "name": "stdout",
     "output_type": "stream",
     "text": [
      "\t\n"
     ]
    }
   ],
   "source": [
    "# Get the columns of interest:\n",
    "col_list = ['bmi', 'diastolic_blood_pressure', 'plasma_glucose_concentration']\n",
    "\n",
    "# Onset_diabetes pandas conditions:\n",
    "onset_yes = pima_diabetes_dat['onset_diabetes'] == 1\n",
    "onset_no = pima_diabetes_dat['onset_diabetes'] == 0\n",
    "\n",
    "# Plot the Histograms:\n",
    "for col in col_list:\n",
    "    print('Current Plot is for {} vs Onset Diabetes'.format(col))\n",
    "\n",
    "    plt.hist( pima_diabetes_dat[onset_no][col], bins = 10, alpha = 0.5, label = 'non-diabetes')\n",
    "\n",
    "    plt.hist( pima_diabetes_dat[onset_yes][col], bins = 10, alpha = 0.5, label = 'diabetes')\n",
    "\n",
    "    plt.legend(loc = 'upper right')\n",
    "    plt.xlabel(col)\n",
    "    plt.ylabel('Frequency')\n",
    "    plt.title('Histogram of {}'.format(col))\n",
    "    plt.show()\n",
    "    \n",
    "    print('\\t')\n",
    "\n"
   ]
  },
  {
   "cell_type": "markdown",
   "metadata": {},
   "source": [
    "### Observations:\n",
    "\n",
    "From the above histograms, it is obvious that there are big differences between the distributions. For example, taking the plasma_glucose_concentration, the patients that have developed diabetes have a concentration mean of around 130 to 140, while those that don't have a concentration mean of around 110. Similarly for BMI of the patients, those who have developed diabetes have a greater BMI count at around 35, while those that don't have diabetes are around 25. As for diastolic blood pressure, the distributions are similar where the distribution mean are almost the same, where the mean is around 70. Overall, this indicates that plasma glucose concentration and BMI of the body have more significnce which will conribute to the developement of diabetes.\n",
    "\n",
    "### 3.4 - Correlation: \n",
    "\n",
    "Taking a look at the correlation between the different columns of the dataset."
   ]
  },
  {
   "cell_type": "code",
   "execution_count": 10,
   "metadata": {},
   "outputs": [
    {
     "data": {
      "text/plain": [
       "<matplotlib.axes._subplots.AxesSubplot at 0x7fd5132a1690>"
      ]
     },
     "execution_count": 10,
     "metadata": {},
     "output_type": "execute_result"
    },
    {
     "data": {
      "image/png": "[encoded data removed]",
      "text/plain": [
       "<Figure size 432x288 with 2 Axes>"
      ]
     },
     "metadata": {},
     "output_type": "display_data"
    }
   ],
   "source": [
    "sns.heatmap(pima_diabetes_dat.corr())"
   ]
  },
  {
   "cell_type": "markdown",
   "metadata": {},
   "source": [
    "### Observation:\n",
    "\n",
    "As the hot spots in the correlation matrix is highlighted by the red colour, it can be seen that plasma_glucose_concentration does stand out as a major contributing factor to onset diabetes.\n",
    "\n",
    "### Examine the numerical correlations for the Onset Diabetes Column:\n"
   ]
  },
  {
   "cell_type": "code",
   "execution_count": 11,
   "metadata": {},
   "outputs": [
    {
     "data": {
      "text/plain": [
       "times_pregnant                  0.221898\n",
       "plasma_glucose_concentration    0.466581\n",
       "diastolic_blood_pressure        0.065068\n",
       "triceps_thickness               0.074752\n",
       "serum_insulin                   0.130548\n",
       "bmi                             0.292695\n",
       "pedigree_function               0.173844\n",
       "age                             0.238356\n",
       "onset_diabetes                  1.000000\n",
       "Name: onset_diabetes, dtype: float64"
      ]
     },
     "execution_count": 11,
     "metadata": {},
     "output_type": "execute_result"
    }
   ],
   "source": [
    "pima_diabetes_dat.corr()['onset_diabetes']"
   ]
  },
  {
   "cell_type": "markdown",
   "metadata": {},
   "source": [
    "From the numbers above, the plasma_glucose_concentration = 0.466 making it the highest correlated factor. the second highest contributing factor is bmi = 0.292 while the third highest contributing factor is age = 0.238.\n",
    "\n",
    "From these, it can be said that these three features are important factors towards the prediction of onset diabetes.\n",
    "\n",
    "## 4 - Missing Values:\n",
    "\n",
    "Check the dataset for any potential missing values, so that it can be dealt with."
   ]
  },
  {
   "cell_type": "code",
   "execution_count": 12,
   "metadata": {},
   "outputs": [
    {
     "data": {
      "text/plain": [
       "times_pregnant                  0\n",
       "plasma_glucose_concentration    0\n",
       "diastolic_blood_pressure        0\n",
       "triceps_thickness               0\n",
       "serum_insulin                   0\n",
       "bmi                             0\n",
       "pedigree_function               0\n",
       "age                             0\n",
       "onset_diabetes                  0\n",
       "dtype: int64"
      ]
     },
     "execution_count": 12,
     "metadata": {},
     "output_type": "execute_result"
    }
   ],
   "source": [
    "pima_diabetes_dat.isnull().sum()"
   ]
  },
  {
   "cell_type": "markdown",
   "metadata": {},
   "source": [
    "Seems like there aren't any missing values.\n",
    "\n",
    "## 5 - Deal with the Missing Values:\n",
    "\n",
    "From the earlier basic statistics, it was found that under the BMI column, it has a minimum value of 0, and this is medically impossible. I could be bad encoding like a missing value rather than a \"None\" value or there are missing cells.\n",
    "\n",
    "\n",
    "Taking another look at the table:"
   ]
  },
  {
   "cell_type": "code",
   "execution_count": 13,
   "metadata": {},
   "outputs": [
    {
     "data": {
      "text/html": [
       "<div>\n",
       "<style scoped>\n",
       "    .dataframe tbody tr th:only-of-type {\n",
       "        vertical-align: middle;\n",
       "    }\n",
       "\n",
       "    .dataframe tbody tr th {\n",
       "        vertical-align: top;\n",
       "    }\n",
       "\n",
       "    .dataframe thead th {\n",
       "        text-align: right;\n",
       "    }\n",
       "</style>\n",
       "<table border=\"1\" class=\"dataframe\">\n",
       "  <thead>\n",
       "    <tr style=\"text-align: right;\">\n",
       "      <th></th>\n",
       "      <th>times_pregnant</th>\n",
       "      <th>plasma_glucose_concentration</th>\n",
       "      <th>diastolic_blood_pressure</th>\n",
       "      <th>triceps_thickness</th>\n",
       "      <th>serum_insulin</th>\n",
       "      <th>bmi</th>\n",
       "      <th>pedigree_function</th>\n",
       "      <th>age</th>\n",
       "      <th>onset_diabetes</th>\n",
       "    </tr>\n",
       "  </thead>\n",
       "  <tbody>\n",
       "    <tr>\n",
       "      <th>count</th>\n",
       "      <td>768.000000</td>\n",
       "      <td>768.000000</td>\n",
       "      <td>768.000000</td>\n",
       "      <td>768.000000</td>\n",
       "      <td>768.000000</td>\n",
       "      <td>768.000000</td>\n",
       "      <td>768.000000</td>\n",
       "      <td>768.000000</td>\n",
       "      <td>768.000000</td>\n",
       "    </tr>\n",
       "    <tr>\n",
       "      <th>mean</th>\n",
       "      <td>3.845052</td>\n",
       "      <td>120.894531</td>\n",
       "      <td>69.105469</td>\n",
       "      <td>20.536458</td>\n",
       "      <td>79.799479</td>\n",
       "      <td>31.992578</td>\n",
       "      <td>0.471876</td>\n",
       "      <td>33.240885</td>\n",
       "      <td>0.348958</td>\n",
       "    </tr>\n",
       "    <tr>\n",
       "      <th>std</th>\n",
       "      <td>3.369578</td>\n",
       "      <td>31.972618</td>\n",
       "      <td>19.355807</td>\n",
       "      <td>15.952218</td>\n",
       "      <td>115.244002</td>\n",
       "      <td>7.884160</td>\n",
       "      <td>0.331329</td>\n",
       "      <td>11.760232</td>\n",
       "      <td>0.476951</td>\n",
       "    </tr>\n",
       "    <tr>\n",
       "      <th>min</th>\n",
       "      <td>0.000000</td>\n",
       "      <td>0.000000</td>\n",
       "      <td>0.000000</td>\n",
       "      <td>0.000000</td>\n",
       "      <td>0.000000</td>\n",
       "      <td>0.000000</td>\n",
       "      <td>0.078000</td>\n",
       "      <td>21.000000</td>\n",
       "      <td>0.000000</td>\n",
       "    </tr>\n",
       "    <tr>\n",
       "      <th>25%</th>\n",
       "      <td>1.000000</td>\n",
       "      <td>99.000000</td>\n",
       "      <td>62.000000</td>\n",
       "      <td>0.000000</td>\n",
       "      <td>0.000000</td>\n",
       "      <td>27.300000</td>\n",
       "      <td>0.243750</td>\n",
       "      <td>24.000000</td>\n",
       "      <td>0.000000</td>\n",
       "    </tr>\n",
       "    <tr>\n",
       "      <th>50%</th>\n",
       "      <td>3.000000</td>\n",
       "      <td>117.000000</td>\n",
       "      <td>72.000000</td>\n",
       "      <td>23.000000</td>\n",
       "      <td>30.500000</td>\n",
       "      <td>32.000000</td>\n",
       "      <td>0.372500</td>\n",
       "      <td>29.000000</td>\n",
       "      <td>0.000000</td>\n",
       "    </tr>\n",
       "    <tr>\n",
       "      <th>75%</th>\n",
       "      <td>6.000000</td>\n",
       "      <td>140.250000</td>\n",
       "      <td>80.000000</td>\n",
       "      <td>32.000000</td>\n",
       "      <td>127.250000</td>\n",
       "      <td>36.600000</td>\n",
       "      <td>0.626250</td>\n",
       "      <td>41.000000</td>\n",
       "      <td>1.000000</td>\n",
       "    </tr>\n",
       "    <tr>\n",
       "      <th>max</th>\n",
       "      <td>17.000000</td>\n",
       "      <td>199.000000</td>\n",
       "      <td>122.000000</td>\n",
       "      <td>99.000000</td>\n",
       "      <td>846.000000</td>\n",
       "      <td>67.100000</td>\n",
       "      <td>2.420000</td>\n",
       "      <td>81.000000</td>\n",
       "      <td>1.000000</td>\n",
       "    </tr>\n",
       "  </tbody>\n",
       "</table>\n",
       "</div>"
      ],
      "text/plain": [
       "       times_pregnant  plasma_glucose_concentration  diastolic_blood_pressure  \\\n",
       "count      768.000000                    768.000000                768.000000   \n",
       "mean         3.845052                    120.894531                 69.105469   \n",
       "std          3.369578                     31.972618                 19.355807   \n",
       "min          0.000000                      0.000000                  0.000000   \n",
       "25%          1.000000                     99.000000                 62.000000   \n",
       "50%          3.000000                    117.000000                 72.000000   \n",
       "75%          6.000000                    140.250000                 80.000000   \n",
       "max         17.000000                    199.000000                122.000000   \n",
       "\n",
       "       triceps_thickness  serum_insulin         bmi  pedigree_function  \\\n",
       "count         768.000000     768.000000  768.000000         768.000000   \n",
       "mean           20.536458      79.799479   31.992578           0.471876   \n",
       "std            15.952218     115.244002    7.884160           0.331329   \n",
       "min             0.000000       0.000000    0.000000           0.078000   \n",
       "25%             0.000000       0.000000   27.300000           0.243750   \n",
       "50%            23.000000      30.500000   32.000000           0.372500   \n",
       "75%            32.000000     127.250000   36.600000           0.626250   \n",
       "max            99.000000     846.000000   67.100000           2.420000   \n",
       "\n",
       "              age  onset_diabetes  \n",
       "count  768.000000      768.000000  \n",
       "mean    33.240885        0.348958  \n",
       "std     11.760232        0.476951  \n",
       "min     21.000000        0.000000  \n",
       "25%     24.000000        0.000000  \n",
       "50%     29.000000        0.000000  \n",
       "75%     41.000000        1.000000  \n",
       "max     81.000000        1.000000  "
      ]
     },
     "execution_count": 13,
     "metadata": {},
     "output_type": "execute_result"
    }
   ],
   "source": [
    "pima_diabetes_dat.describe()"
   ]
  },
  {
   "cell_type": "markdown",
   "metadata": {},
   "source": [
    "Further, there are other columns that presents with this issue. These columns were found to be:"
   ]
  },
  {
   "cell_type": "code",
   "execution_count": 14,
   "metadata": {},
   "outputs": [
    {
     "name": "stdout",
     "output_type": "stream",
     "text": [
      "Here are the potential columns with missing data for the 'min' row: \t\n"
     ]
    },
    {
     "data": {
      "text/plain": [
       "['times_pregnant',\n",
       " 'plasma_glucose_concentration',\n",
       " 'diastolic_blood_pressure',\n",
       " 'triceps_thickness',\n",
       " 'serum_insulin',\n",
       " 'bmi',\n",
       " 'onset_diabetes']"
      ]
     },
     "execution_count": 14,
     "metadata": {},
     "output_type": "execute_result"
    }
   ],
   "source": [
    "col_names = list(pima_diabetes_dat.columns)\n",
    "\n",
    "potential_missingValue_col = []\n",
    "\n",
    "for col in col_names:\n",
    "    if ( pima_diabetes_dat.describe()[col][3] == 0 ):\n",
    "        potential_missingValue_col.append(pima_diabetes_dat.describe()[col].name)\n",
    "\n",
    "print(\"Here are the potential columns with missing data for the 'min' row: \\t\")\n",
    "potential_missingValue_col"
   ]
  },
  {
   "cell_type": "markdown",
   "metadata": {},
   "source": [
    "Note that the column 'times_pregnant' uses zero as a number to state the amount of times the patient have been pregnant and 'onset_diabetes' column is the class variable, these columns can be ignored. That leaves the remainder as the columns that have missing values. \n",
    "\n",
    "Missing values in these columns:\n",
    "- 'plasma_glucose_concentration'\n",
    "- 'diastolic_blood_pressure'\n",
    "- 'triceps_thickness'\n",
    "- 'serum_insulin'\n",
    "- 'bmi'\n",
    "\n",
    "## 5.1 - Dealing with the missing values:\n",
    "\n",
    "For the sake of compatibility for applying the dataset to learning algorithms, the rows of missing values needs to be dealt with firstly. To do so, there are two methods:\n",
    "\n",
    "1. Removing the rows with the missing value.\n",
    "2. Imputing the missing data."
   ]
  },
  {
   "cell_type": "code",
   "execution_count": 15,
   "metadata": {},
   "outputs": [
    {
     "data": {
      "text/plain": [
       "['plasma_glucose_concentration',\n",
       " 'diastolic_blood_pressure',\n",
       " 'triceps_thickness',\n",
       " 'serum_insulin',\n",
       " 'bmi']"
      ]
     },
     "execution_count": 15,
     "metadata": {},
     "output_type": "execute_result"
    }
   ],
   "source": [
    "# Remove the unwanted columns from the list of potentials:\n",
    "potential_missingValue_col.remove('times_pregnant')\n",
    "potential_missingValue_col.remove('onset_diabetes')\n",
    "potential_missingValue_col"
   ]
  },
  {
   "cell_type": "markdown",
   "metadata": {},
   "source": [
    "The first job here is to remove the zeros in the dataset and replace them with 'None'. This is so that the \".fillna\" and \".dropna\" methods can work properly."
   ]
  },
  {
   "cell_type": "code",
   "execution_count": 16,
   "metadata": {},
   "outputs": [],
   "source": [
    "# Loop through the zeros and change them to 'None':\n",
    "for col in potential_missingValue_col:\n",
    "    pima_diabetes_dat[col].replace([0], [None], inplace = True)"
   ]
  },
  {
   "cell_type": "code",
   "execution_count": 17,
   "metadata": {},
   "outputs": [
    {
     "data": {
      "text/plain": [
       "times_pregnant                    0\n",
       "plasma_glucose_concentration      5\n",
       "diastolic_blood_pressure         35\n",
       "triceps_thickness               227\n",
       "serum_insulin                   374\n",
       "bmi                              11\n",
       "pedigree_function                 0\n",
       "age                               0\n",
       "onset_diabetes                    0\n",
       "dtype: int64"
      ]
     },
     "execution_count": 17,
     "metadata": {},
     "output_type": "execute_result"
    }
   ],
   "source": [
    "# Check out the results:\n",
    "pima_diabetes_dat.isnull().sum()"
   ]
  },
  {
   "cell_type": "code",
   "execution_count": 18,
   "metadata": {},
   "outputs": [
    {
     "data": {
      "text/html": [
       "<div>\n",
       "<style scoped>\n",
       "    .dataframe tbody tr th:only-of-type {\n",
       "        vertical-align: middle;\n",
       "    }\n",
       "\n",
       "    .dataframe tbody tr th {\n",
       "        vertical-align: top;\n",
       "    }\n",
       "\n",
       "    .dataframe thead th {\n",
       "        text-align: right;\n",
       "    }\n",
       "</style>\n",
       "<table border=\"1\" class=\"dataframe\">\n",
       "  <thead>\n",
       "    <tr style=\"text-align: right;\">\n",
       "      <th></th>\n",
       "      <th>times_pregnant</th>\n",
       "      <th>plasma_glucose_concentration</th>\n",
       "      <th>diastolic_blood_pressure</th>\n",
       "      <th>triceps_thickness</th>\n",
       "      <th>serum_insulin</th>\n",
       "      <th>bmi</th>\n",
       "      <th>pedigree_function</th>\n",
       "      <th>age</th>\n",
       "      <th>onset_diabetes</th>\n",
       "    </tr>\n",
       "  </thead>\n",
       "  <tbody>\n",
       "    <tr>\n",
       "      <th>0</th>\n",
       "      <td>6</td>\n",
       "      <td>148</td>\n",
       "      <td>72</td>\n",
       "      <td>35</td>\n",
       "      <td>None</td>\n",
       "      <td>33.6</td>\n",
       "      <td>0.627</td>\n",
       "      <td>50</td>\n",
       "      <td>1</td>\n",
       "    </tr>\n",
       "    <tr>\n",
       "      <th>1</th>\n",
       "      <td>1</td>\n",
       "      <td>85</td>\n",
       "      <td>66</td>\n",
       "      <td>29</td>\n",
       "      <td>None</td>\n",
       "      <td>26.6</td>\n",
       "      <td>0.351</td>\n",
       "      <td>31</td>\n",
       "      <td>0</td>\n",
       "    </tr>\n",
       "    <tr>\n",
       "      <th>2</th>\n",
       "      <td>8</td>\n",
       "      <td>183</td>\n",
       "      <td>64</td>\n",
       "      <td>None</td>\n",
       "      <td>None</td>\n",
       "      <td>23.3</td>\n",
       "      <td>0.672</td>\n",
       "      <td>32</td>\n",
       "      <td>1</td>\n",
       "    </tr>\n",
       "    <tr>\n",
       "      <th>3</th>\n",
       "      <td>1</td>\n",
       "      <td>89</td>\n",
       "      <td>66</td>\n",
       "      <td>23</td>\n",
       "      <td>94</td>\n",
       "      <td>28.1</td>\n",
       "      <td>0.167</td>\n",
       "      <td>21</td>\n",
       "      <td>0</td>\n",
       "    </tr>\n",
       "    <tr>\n",
       "      <th>4</th>\n",
       "      <td>0</td>\n",
       "      <td>137</td>\n",
       "      <td>40</td>\n",
       "      <td>35</td>\n",
       "      <td>168</td>\n",
       "      <td>43.1</td>\n",
       "      <td>2.288</td>\n",
       "      <td>33</td>\n",
       "      <td>1</td>\n",
       "    </tr>\n",
       "  </tbody>\n",
       "</table>\n",
       "</div>"
      ],
      "text/plain": [
       "   times_pregnant plasma_glucose_concentration diastolic_blood_pressure  \\\n",
       "0               6                          148                       72   \n",
       "1               1                           85                       66   \n",
       "2               8                          183                       64   \n",
       "3               1                           89                       66   \n",
       "4               0                          137                       40   \n",
       "\n",
       "  triceps_thickness serum_insulin   bmi  pedigree_function  age  \\\n",
       "0                35          None  33.6              0.627   50   \n",
       "1                29          None  26.6              0.351   31   \n",
       "2              None          None  23.3              0.672   32   \n",
       "3                23            94  28.1              0.167   21   \n",
       "4                35           168  43.1              2.288   33   \n",
       "\n",
       "   onset_diabetes  \n",
       "0               1  \n",
       "1               0  \n",
       "2               1  \n",
       "3               0  \n",
       "4               1  "
      ]
     },
     "execution_count": 18,
     "metadata": {},
     "output_type": "execute_result"
    }
   ],
   "source": [
    "pima_diabetes_dat.head()"
   ]
  },
  {
   "cell_type": "markdown",
   "metadata": {},
   "source": [
    "From the output above, there are now 5 columns with missing values, where some of these have only 5 missing values (plasma_glucose_concentration) or 374 missing values (serum_insulin)."
   ]
  },
  {
   "cell_type": "code",
   "execution_count": 19,
   "metadata": {},
   "outputs": [
    {
     "data": {
      "text/html": [
       "<div>\n",
       "<style scoped>\n",
       "    .dataframe tbody tr th:only-of-type {\n",
       "        vertical-align: middle;\n",
       "    }\n",
       "\n",
       "    .dataframe tbody tr th {\n",
       "        vertical-align: top;\n",
       "    }\n",
       "\n",
       "    .dataframe thead th {\n",
       "        text-align: right;\n",
       "    }\n",
       "</style>\n",
       "<table border=\"1\" class=\"dataframe\">\n",
       "  <thead>\n",
       "    <tr style=\"text-align: right;\">\n",
       "      <th></th>\n",
       "      <th>times_pregnant</th>\n",
       "      <th>pedigree_function</th>\n",
       "      <th>age</th>\n",
       "      <th>onset_diabetes</th>\n",
       "    </tr>\n",
       "  </thead>\n",
       "  <tbody>\n",
       "    <tr>\n",
       "      <th>count</th>\n",
       "      <td>768.000000</td>\n",
       "      <td>768.000000</td>\n",
       "      <td>768.000000</td>\n",
       "      <td>768.000000</td>\n",
       "    </tr>\n",
       "    <tr>\n",
       "      <th>mean</th>\n",
       "      <td>3.845052</td>\n",
       "      <td>0.471876</td>\n",
       "      <td>33.240885</td>\n",
       "      <td>0.348958</td>\n",
       "    </tr>\n",
       "    <tr>\n",
       "      <th>std</th>\n",
       "      <td>3.369578</td>\n",
       "      <td>0.331329</td>\n",
       "      <td>11.760232</td>\n",
       "      <td>0.476951</td>\n",
       "    </tr>\n",
       "    <tr>\n",
       "      <th>min</th>\n",
       "      <td>0.000000</td>\n",
       "      <td>0.078000</td>\n",
       "      <td>21.000000</td>\n",
       "      <td>0.000000</td>\n",
       "    </tr>\n",
       "    <tr>\n",
       "      <th>25%</th>\n",
       "      <td>1.000000</td>\n",
       "      <td>0.243750</td>\n",
       "      <td>24.000000</td>\n",
       "      <td>0.000000</td>\n",
       "    </tr>\n",
       "    <tr>\n",
       "      <th>50%</th>\n",
       "      <td>3.000000</td>\n",
       "      <td>0.372500</td>\n",
       "      <td>29.000000</td>\n",
       "      <td>0.000000</td>\n",
       "    </tr>\n",
       "    <tr>\n",
       "      <th>75%</th>\n",
       "      <td>6.000000</td>\n",
       "      <td>0.626250</td>\n",
       "      <td>41.000000</td>\n",
       "      <td>1.000000</td>\n",
       "    </tr>\n",
       "    <tr>\n",
       "      <th>max</th>\n",
       "      <td>17.000000</td>\n",
       "      <td>2.420000</td>\n",
       "      <td>81.000000</td>\n",
       "      <td>1.000000</td>\n",
       "    </tr>\n",
       "  </tbody>\n",
       "</table>\n",
       "</div>"
      ],
      "text/plain": [
       "       times_pregnant  pedigree_function         age  onset_diabetes\n",
       "count      768.000000         768.000000  768.000000      768.000000\n",
       "mean         3.845052           0.471876   33.240885        0.348958\n",
       "std          3.369578           0.331329   11.760232        0.476951\n",
       "min          0.000000           0.078000   21.000000        0.000000\n",
       "25%          1.000000           0.243750   24.000000        0.000000\n",
       "50%          3.000000           0.372500   29.000000        0.000000\n",
       "75%          6.000000           0.626250   41.000000        1.000000\n",
       "max         17.000000           2.420000   81.000000        1.000000"
      ]
     },
     "execution_count": 19,
     "metadata": {},
     "output_type": "execute_result"
    }
   ],
   "source": [
    "# EDA on dataset:\n",
    "pima_diabetes_dat.describe()"
   ]
  },
  {
   "cell_type": "markdown",
   "metadata": {},
   "source": [
    "Note that the \".describe()\" method does not include columns with missing values, hence this is not ideal and the computation of the mean and standard deviation will need to be down manually."
   ]
  },
  {
   "cell_type": "code",
   "execution_count": 20,
   "metadata": {},
   "outputs": [
    {
     "name": "stdout",
     "output_type": "stream",
     "text": [
      "Column: plasma_glucose_concentration\n",
      "mean = 121.69 and standard deviation = 30.54.\n",
      "\t\n",
      "Column: diastolic_blood_pressure\n",
      "mean = 72.41 and standard deviation = 12.38.\n",
      "\t\n",
      "Column: triceps_thickness\n",
      "mean = 29.15 and standard deviation = 10.48.\n",
      "\t\n",
      "Column: serum_insulin\n",
      "mean = 155.55 and standard deviation = 118.78.\n",
      "\t\n",
      "Column: bmi\n",
      "mean = 32.46 and standard deviation = 6.92.\n",
      "\t\n"
     ]
    }
   ],
   "source": [
    "# Compute the mean and standard deviation for the missing columns:\n",
    "for col in potential_missingValue_col:\n",
    "    mean_val = pima_diabetes_dat[col].mean()\n",
    "    std_val = pima_diabetes_dat[col].std()\n",
    "    \n",
    "    print('Column: {}'.format(col))\n",
    "    print('mean = {:.2f} and standard deviation = {:.2f}.'.format(mean_val, std_val))\n",
    "    print('\\t')\n",
    "    "
   ]
  },
  {
   "cell_type": "markdown",
   "metadata": {},
   "source": [
    "## 5.2 - Removing the Data Rows: \n",
    "\n",
    "One of the simplest ways to deal with missing data is to remove them completely."
   ]
  },
  {
   "cell_type": "code",
   "execution_count": 21,
   "metadata": {},
   "outputs": [],
   "source": [
    "# Drop the rows with missing values:\n",
    "pima_diabetes_dat_dropped = pima_diabetes_dat.dropna()"
   ]
  },
  {
   "cell_type": "markdown",
   "metadata": {},
   "source": [
    "Performing this kind of data removel also means that the dataset size (or number of samples) have been reduced. The following will show the difference."
   ]
  },
  {
   "cell_type": "code",
   "execution_count": 22,
   "metadata": {},
   "outputs": [
    {
     "name": "stdout",
     "output_type": "stream",
     "text": [
      "Dataset retained 49% of rows compared to original dataset.\n"
     ]
    }
   ],
   "source": [
    "nb_rows_lost = round( (pima_diabetes_dat.shape[0] - pima_diabetes_dat_dropped.shape[0]) / float(pima_diabetes_dat.shape[0]) * 100)\n",
    "\n",
    "# Print:\n",
    "print('Dataset retained {}% of rows compared to original dataset.'.format(nb_rows_lost))"
   ]
  },
  {
   "cell_type": "markdown",
   "metadata": {},
   "source": [
    "As it can be seen, just by doing this, the dataset has lost 51%. Considering it from the Machine Learning algorithm's perspective, it means that the algorithm wont have much data to learn from and this may impact its predictive power down the line.\n",
    "\n",
    "### 5.2.1 - Comparing Statistics of Before/After:\n",
    "\n",
    "Performing EDA to examine the difference."
   ]
  },
  {
   "cell_type": "code",
   "execution_count": 23,
   "metadata": {},
   "outputs": [
    {
     "data": {
      "text/plain": [
       "0    0.651042\n",
       "1    0.348958\n",
       "Name: onset_diabetes, dtype: float64"
      ]
     },
     "execution_count": 23,
     "metadata": {},
     "output_type": "execute_result"
    }
   ],
   "source": [
    "# Check the Splits of the dataset (BEFORE):\n",
    "pima_diabetes_dat['onset_diabetes'].value_counts(normalize = True)"
   ]
  },
  {
   "cell_type": "code",
   "execution_count": 24,
   "metadata": {},
   "outputs": [
    {
     "data": {
      "text/plain": [
       "0    0.668367\n",
       "1    0.331633\n",
       "Name: onset_diabetes, dtype: float64"
      ]
     },
     "execution_count": 24,
     "metadata": {},
     "output_type": "execute_result"
    }
   ],
   "source": [
    "# Check the Splits of the dataset (AFTER):\n",
    "pima_diabetes_dat_dropped['onset_diabetes'].value_counts(normalize = True)"
   ]
  },
  {
   "cell_type": "markdown",
   "metadata": {},
   "source": [
    "Seems like the splits remains roughly similar during the transformation. Now lets compare the __mean__:"
   ]
  },
  {
   "cell_type": "code",
   "execution_count": 25,
   "metadata": {},
   "outputs": [
    {
     "data": {
      "text/plain": [
       "times_pregnant                    3.845052\n",
       "plasma_glucose_concentration    121.686763\n",
       "diastolic_blood_pressure         72.405184\n",
       "triceps_thickness                29.153420\n",
       "serum_insulin                   155.548223\n",
       "bmi                              32.457464\n",
       "pedigree_function                 0.471876\n",
       "age                              33.240885\n",
       "onset_diabetes                    0.348958\n",
       "dtype: float64"
      ]
     },
     "execution_count": 25,
     "metadata": {},
     "output_type": "execute_result"
    }
   ],
   "source": [
    "pima_diabetes_dat.mean()"
   ]
  },
  {
   "cell_type": "code",
   "execution_count": 26,
   "metadata": {},
   "outputs": [
    {
     "data": {
      "text/plain": [
       "times_pregnant                    3.301020\n",
       "plasma_glucose_concentration    122.627551\n",
       "diastolic_blood_pressure         70.663265\n",
       "triceps_thickness                29.145408\n",
       "serum_insulin                   156.056122\n",
       "bmi                              33.086224\n",
       "pedigree_function                 0.523046\n",
       "age                              30.864796\n",
       "onset_diabetes                    0.331633\n",
       "dtype: float64"
      ]
     },
     "execution_count": 26,
     "metadata": {},
     "output_type": "execute_result"
    }
   ],
   "source": [
    "pima_diabetes_dat_dropped.mean()"
   ]
  },
  {
   "cell_type": "markdown",
   "metadata": {},
   "source": [
    "Slightly hard to read and compare each columns. Visualise them for better understanding."
   ]
  },
  {
   "cell_type": "code",
   "execution_count": 27,
   "metadata": {},
   "outputs": [
    {
     "data": {
      "text/plain": [
       "Text(0, 0.5, '% Change.')"
      ]
     },
     "execution_count": 27,
     "metadata": {},
     "output_type": "execute_result"
    },
    {
     "data": {
      "image/png": "[encoded data removed]",
      "text/plain": [
       "<Figure size 432x288 with 1 Axes>"
      ]
     },
     "metadata": {},
     "output_type": "display_data"
    }
   ],
   "source": [
    "# Find the Percentage (%) change in means:\n",
    "percent_chg_mean = (pima_diabetes_dat_dropped.mean() - pima_diabetes_dat.mean()) / pima_diabetes_dat.mean()\n",
    "\n",
    "# Visualise:\n",
    "ax = percent_chg_mean.plot(kind = 'bar', title = 'Percentage (%) change in means')\n",
    "ax.set_ylabel('% Change.')"
   ]
  },
  {
   "cell_type": "markdown",
   "metadata": {},
   "source": [
    "### Observation:\n",
    "\n",
    "From the chart above, it can be seen that the greatest change to the dataset were with \"times_pregnant\" (at -14%) and \"\" (at +11%). Ideally, retain as much data as possible is the desired outcome, where it should help the machine learning (ML) model predict better.\n",
    "\n",
    "### 5.2.2 - Modelling with KNN Classifier:\n",
    "\n",
    "Taking the dataset above and put it through the KNN model."
   ]
  },
  {
   "cell_type": "code",
   "execution_count": 28,
   "metadata": {},
   "outputs": [],
   "source": [
    "# Import the required libraries:\n",
    "from sklearn.neighbors import KNeighborsClassifier\n",
    "from sklearn.model_selection import GridSearchCV"
   ]
  },
  {
   "cell_type": "code",
   "execution_count": 29,
   "metadata": {},
   "outputs": [],
   "source": [
    "# Divide the Dataset into its X and Y components:\n",
    "X_dropped = pima_diabetes_dat_dropped.drop('onset_diabetes', axis = 1)\n",
    "y_dropped = pima_diabetes_dat_dropped['onset_diabetes']"
   ]
  },
  {
   "cell_type": "code",
   "execution_count": 30,
   "metadata": {},
   "outputs": [
    {
     "name": "stdout",
     "output_type": "stream",
     "text": [
      "Model will learn from 392 rows.\n"
     ]
    }
   ],
   "source": [
    "# Check how many rows the model will be learning from:\n",
    "print(\"Model will learn from {} rows.\".format(X_dropped.shape[0]))"
   ]
  },
  {
   "cell_type": "code",
   "execution_count": 31,
   "metadata": {},
   "outputs": [],
   "source": [
    "# Define the Grid Search variables and instances: parameters for KNN to try.\n",
    "knn_params = {'n_neighbors': [1, 2, 3, 4, 5, 6, 7]}\n",
    "\n",
    "# Instantiate the KNN model:\n",
    "knn_model = KNeighborsClassifier()\n"
   ]
  },
  {
   "cell_type": "code",
   "execution_count": 32,
   "metadata": {},
   "outputs": [
    {
     "name": "stdout",
     "output_type": "stream",
     "text": [
      "0.7348263550795197 {'n_neighbors': 7}\n"
     ]
    }
   ],
   "source": [
    "# Apply the model onto the dataset:\n",
    "grid = GridSearchCV(estimator = knn_model,\n",
    "                    param_grid = knn_params)\n",
    "\n",
    "grid.fit(X_dropped, y_dropped)\n",
    "\n",
    "# Show the Results:\n",
    "print(grid.best_score_, grid.best_params_)"
   ]
  },
  {
   "cell_type": "markdown",
   "metadata": {},
   "source": [
    "### Observation:\n",
    "It seems like the KNN model from grid search determined that using 7 nearest neighbours achieved the best accuracy score of 73.4%. Note that this was achieve by learning from 49% of the original dataset.\n",
    "\n",
    "## 6 - Imputing Missing Data:\n",
    "\n",
    "Imputing missing data can be said to be filling in missing data values with numerical quantities from existing knowledge or data. There are a few methods, where the two most common methods are:\n",
    "\n",
    "1) Imputing by using the average (MEAN) value of the column.\n",
    "2) Imputing by using the Median value of the column.\n",
    "\n",
    "## 6.1 - Imputing by using the average (MEAN) value of the column:"
   ]
  },
  {
   "cell_type": "code",
   "execution_count": 33,
   "metadata": {},
   "outputs": [
    {
     "data": {
      "text/plain": [
       "times_pregnant                    0\n",
       "plasma_glucose_concentration      5\n",
       "diastolic_blood_pressure         35\n",
       "triceps_thickness               227\n",
       "serum_insulin                   374\n",
       "bmi                              11\n",
       "pedigree_function                 0\n",
       "age                               0\n",
       "onset_diabetes                    0\n",
       "dtype: int64"
      ]
     },
     "execution_count": 33,
     "metadata": {},
     "output_type": "execute_result"
    }
   ],
   "source": [
    "# Check out the missing values of the columns:\n",
    "pima_diabetes_dat.isnull().sum()"
   ]
  },
  {
   "cell_type": "markdown",
   "metadata": {},
   "source": [
    "Focusing on the \"plasma_glucose_concentration\" column, identify the 5 missing rows."
   ]
  },
  {
   "cell_type": "code",
   "execution_count": 34,
   "metadata": {},
   "outputs": [
    {
     "data": {
      "text/plain": [
       "75     None\n",
       "182    None\n",
       "342    None\n",
       "349    None\n",
       "502    None\n",
       "Name: plasma_glucose_concentration, dtype: object"
      ]
     },
     "execution_count": 34,
     "metadata": {},
     "output_type": "execute_result"
    }
   ],
   "source": [
    "# Grab the index of the missing rows:\n",
    "condition = pima_diabetes_dat['plasma_glucose_concentration'].isnull()\n",
    "\n",
    "emptyRow_plasma_index = pima_diabetes_dat[condition].index\n",
    "\n",
    "# Extract the rows:\n",
    "pima_diabetes_dat.loc[emptyRow_plasma_index]['plasma_glucose_concentration']\n"
   ]
  },
  {
   "cell_type": "markdown",
   "metadata": {},
   "source": [
    "Next, is to replace these \"None\" values with the mean."
   ]
  },
  {
   "cell_type": "code",
   "execution_count": 35,
   "metadata": {},
   "outputs": [],
   "source": [
    "# Compute the mean of the column:\n",
    "mean_plasma = pima_diabetes_dat['plasma_glucose_concentration'].mean()\n",
    "\n",
    "# Replace the \"None\" values:\n",
    "pima_diabetes_dat['plasma_glucose_concentration'].fillna(value=mean_plasma,\n",
    "                                                         inplace=True)"
   ]
  },
  {
   "cell_type": "code",
   "execution_count": 36,
   "metadata": {},
   "outputs": [
    {
     "data": {
      "text/plain": [
       "times_pregnant                    0\n",
       "plasma_glucose_concentration      0\n",
       "diastolic_blood_pressure         35\n",
       "triceps_thickness               227\n",
       "serum_insulin                   374\n",
       "bmi                              11\n",
       "pedigree_function                 0\n",
       "age                               0\n",
       "onset_diabetes                    0\n",
       "dtype: int64"
      ]
     },
     "execution_count": 36,
     "metadata": {},
     "output_type": "execute_result"
    }
   ],
   "source": [
    "# Check out the dataset:\n",
    "pima_diabetes_dat.isnull().sum()\n"
   ]
  },
  {
   "cell_type": "markdown",
   "metadata": {},
   "source": [
    "Done, the number of missing values (5, before) are filled in with the mean value."
   ]
  },
  {
   "cell_type": "code",
   "execution_count": 37,
   "metadata": {},
   "outputs": [
    {
     "data": {
      "text/plain": [
       "75     121.686763\n",
       "182    121.686763\n",
       "342    121.686763\n",
       "349    121.686763\n",
       "502    121.686763\n",
       "Name: plasma_glucose_concentration, dtype: float64"
      ]
     },
     "execution_count": 37,
     "metadata": {},
     "output_type": "execute_result"
    }
   ],
   "source": [
    "# Check out the mean value:\n",
    "pima_diabetes_dat.loc[emptyRow_plasma_index]['plasma_glucose_concentration']"
   ]
  },
  {
   "cell_type": "markdown",
   "metadata": {},
   "source": [
    "### 6.1.1 - Impute the Dataset with \"Imputer\" from SKLEARN:\n",
    "\n",
    "The above method is the manual way of impute each column with the mean value. Luckily, there is a handy package provided by scikit-learn to speed things up.\n",
    "\n",
    "The SimpleImputer consists of a few parameters, where the focus here is \"strategy\". This will be set to compute for the \"mean\"."
   ]
  },
  {
   "cell_type": "code",
   "execution_count": 38,
   "metadata": {},
   "outputs": [],
   "source": [
    "# Import the required package:\n",
    "from sklearn.impute import SimpleImputer"
   ]
  },
  {
   "cell_type": "code",
   "execution_count": 39,
   "metadata": {},
   "outputs": [],
   "source": [
    "# Instantiate the Imputer:\n",
    "imputer = SimpleImputer(strategy='mean')"
   ]
  },
  {
   "cell_type": "code",
   "execution_count": 40,
   "metadata": {},
   "outputs": [
    {
     "data": {
      "text/plain": [
       "numpy.ndarray"
      ]
     },
     "execution_count": 40,
     "metadata": {},
     "output_type": "execute_result"
    }
   ],
   "source": [
    "# Apply the imputer to the dataset:\n",
    "pima_imputed = imputer.fit_transform(pima_diabetes_dat)\n",
    "\n",
    "# Check out the type of the output:\n",
    "type(pima_imputed)"
   ]
  },
  {
   "cell_type": "code",
   "execution_count": 41,
   "metadata": {},
   "outputs": [
    {
     "data": {
      "text/html": [
       "<div>\n",
       "<style scoped>\n",
       "    .dataframe tbody tr th:only-of-type {\n",
       "        vertical-align: middle;\n",
       "    }\n",
       "\n",
       "    .dataframe tbody tr th {\n",
       "        vertical-align: top;\n",
       "    }\n",
       "\n",
       "    .dataframe thead th {\n",
       "        text-align: right;\n",
       "    }\n",
       "</style>\n",
       "<table border=\"1\" class=\"dataframe\">\n",
       "  <thead>\n",
       "    <tr style=\"text-align: right;\">\n",
       "      <th></th>\n",
       "      <th>times_pregnant</th>\n",
       "      <th>plasma_glucose_concentration</th>\n",
       "      <th>diastolic_blood_pressure</th>\n",
       "      <th>triceps_thickness</th>\n",
       "      <th>serum_insulin</th>\n",
       "      <th>bmi</th>\n",
       "      <th>pedigree_function</th>\n",
       "      <th>age</th>\n",
       "      <th>onset_diabetes</th>\n",
       "    </tr>\n",
       "  </thead>\n",
       "  <tbody>\n",
       "    <tr>\n",
       "      <th>0</th>\n",
       "      <td>6.0</td>\n",
       "      <td>148.0</td>\n",
       "      <td>72.0</td>\n",
       "      <td>35.00000</td>\n",
       "      <td>155.548223</td>\n",
       "      <td>33.6</td>\n",
       "      <td>0.627</td>\n",
       "      <td>50.0</td>\n",
       "      <td>1.0</td>\n",
       "    </tr>\n",
       "    <tr>\n",
       "      <th>1</th>\n",
       "      <td>1.0</td>\n",
       "      <td>85.0</td>\n",
       "      <td>66.0</td>\n",
       "      <td>29.00000</td>\n",
       "      <td>155.548223</td>\n",
       "      <td>26.6</td>\n",
       "      <td>0.351</td>\n",
       "      <td>31.0</td>\n",
       "      <td>0.0</td>\n",
       "    </tr>\n",
       "    <tr>\n",
       "      <th>2</th>\n",
       "      <td>8.0</td>\n",
       "      <td>183.0</td>\n",
       "      <td>64.0</td>\n",
       "      <td>29.15342</td>\n",
       "      <td>155.548223</td>\n",
       "      <td>23.3</td>\n",
       "      <td>0.672</td>\n",
       "      <td>32.0</td>\n",
       "      <td>1.0</td>\n",
       "    </tr>\n",
       "    <tr>\n",
       "      <th>3</th>\n",
       "      <td>1.0</td>\n",
       "      <td>89.0</td>\n",
       "      <td>66.0</td>\n",
       "      <td>23.00000</td>\n",
       "      <td>94.000000</td>\n",
       "      <td>28.1</td>\n",
       "      <td>0.167</td>\n",
       "      <td>21.0</td>\n",
       "      <td>0.0</td>\n",
       "    </tr>\n",
       "    <tr>\n",
       "      <th>4</th>\n",
       "      <td>0.0</td>\n",
       "      <td>137.0</td>\n",
       "      <td>40.0</td>\n",
       "      <td>35.00000</td>\n",
       "      <td>168.000000</td>\n",
       "      <td>43.1</td>\n",
       "      <td>2.288</td>\n",
       "      <td>33.0</td>\n",
       "      <td>1.0</td>\n",
       "    </tr>\n",
       "  </tbody>\n",
       "</table>\n",
       "</div>"
      ],
      "text/plain": [
       "   times_pregnant  plasma_glucose_concentration  diastolic_blood_pressure  \\\n",
       "0             6.0                         148.0                      72.0   \n",
       "1             1.0                          85.0                      66.0   \n",
       "2             8.0                         183.0                      64.0   \n",
       "3             1.0                          89.0                      66.0   \n",
       "4             0.0                         137.0                      40.0   \n",
       "\n",
       "   triceps_thickness  serum_insulin   bmi  pedigree_function   age  \\\n",
       "0           35.00000     155.548223  33.6              0.627  50.0   \n",
       "1           29.00000     155.548223  26.6              0.351  31.0   \n",
       "2           29.15342     155.548223  23.3              0.672  32.0   \n",
       "3           23.00000      94.000000  28.1              0.167  21.0   \n",
       "4           35.00000     168.000000  43.1              2.288  33.0   \n",
       "\n",
       "   onset_diabetes  \n",
       "0             1.0  \n",
       "1             0.0  \n",
       "2             1.0  \n",
       "3             0.0  \n",
       "4             1.0  "
      ]
     },
     "execution_count": 41,
     "metadata": {},
     "output_type": "execute_result"
    }
   ],
   "source": [
    "# Transform the Array to DataFrame:\n",
    "pima_imputed = pd.DataFrame(data = pima_imputed, \n",
    "                            columns = col_names)\n",
    "\n",
    "# Check out the Dataset:\n",
    "pima_imputed.head()"
   ]
  },
  {
   "cell_type": "code",
   "execution_count": 42,
   "metadata": {},
   "outputs": [
    {
     "data": {
      "text/plain": [
       "75     121.686763\n",
       "182    121.686763\n",
       "342    121.686763\n",
       "349    121.686763\n",
       "502    121.686763\n",
       "Name: plasma_glucose_concentration, dtype: float64"
      ]
     },
     "execution_count": 42,
     "metadata": {},
     "output_type": "execute_result"
    }
   ],
   "source": [
    "# Check the Plasma Glucose Concentration Column:\n",
    "pima_diabetes_dat.loc[emptyRow_plasma_index]['plasma_glucose_concentration']"
   ]
  },
  {
   "cell_type": "code",
   "execution_count": 43,
   "metadata": {},
   "outputs": [
    {
     "data": {
      "text/plain": [
       "times_pregnant                  0\n",
       "plasma_glucose_concentration    0\n",
       "diastolic_blood_pressure        0\n",
       "triceps_thickness               0\n",
       "serum_insulin                   0\n",
       "bmi                             0\n",
       "pedigree_function               0\n",
       "age                             0\n",
       "onset_diabetes                  0\n",
       "dtype: int64"
      ]
     },
     "execution_count": 43,
     "metadata": {},
     "output_type": "execute_result"
    }
   ],
   "source": [
    "# Perform a final check for missing values:\n",
    "pima_imputed.isnull().sum()"
   ]
  },
  {
   "cell_type": "markdown",
   "metadata": {},
   "source": [
    "The dataset now has no more missing values, as they are all filled in with the mean of each column.\n",
    "\n",
    "### 6.1.2 - Imputing with different values:"
   ]
  },
  {
   "cell_type": "code",
   "execution_count": 44,
   "metadata": {},
   "outputs": [],
   "source": [
    "# Impute with Zeros:\n",
    "pima_zero = pima_diabetes_dat.fillna(value = 0)"
   ]
  },
  {
   "cell_type": "markdown",
   "metadata": {},
   "source": [
    "### 6.1.3 - Test the Accuracy based on Imputing with Zeros:"
   ]
  },
  {
   "cell_type": "code",
   "execution_count": 45,
   "metadata": {},
   "outputs": [],
   "source": [
    "# Divide the Dataset into its X and Y components:\n",
    "X_zero = pima_zero.drop('onset_diabetes', axis = 1)\n",
    "y_zero = pima_zero['onset_diabetes']"
   ]
  },
  {
   "cell_type": "code",
   "execution_count": 46,
   "metadata": {},
   "outputs": [
    {
     "name": "stdout",
     "output_type": "stream",
     "text": [
      "Model will learn from 768 rows.\n"
     ]
    }
   ],
   "source": [
    "# Check how many rows the model will be learning from:\n",
    "print(\"Model will learn from {} rows.\".format(X_zero.shape[0]))"
   ]
  },
  {
   "cell_type": "code",
   "execution_count": 47,
   "metadata": {},
   "outputs": [],
   "source": [
    "# Define the Grid Search variables and instances: parameters for KNN to try.\n",
    "knn_params = {'n_neighbors': [1, 2, 3, 4, 5, 6, 7]}\n",
    "\n",
    "# Instantiate the KNN model:\n",
    "knn_model = KNeighborsClassifier()\n"
   ]
  },
  {
   "cell_type": "code",
   "execution_count": 48,
   "metadata": {},
   "outputs": [
    {
     "name": "stdout",
     "output_type": "stream",
     "text": [
      "0.7409387997623291 {'n_neighbors': 7}\n"
     ]
    }
   ],
   "source": [
    "# Apply the model onto the dataset:\n",
    "grid = GridSearchCV(estimator = knn_model,\n",
    "                    param_grid = knn_params)\n",
    "\n",
    "grid.fit(X_zero, y_zero)\n",
    "\n",
    "# Show the Results:\n",
    "print(grid.best_score_, grid.best_params_)"
   ]
  },
  {
   "cell_type": "markdown",
   "metadata": {},
   "source": [
    "### Observation:\n",
    "\n",
    "It can be seen that the model above that utilises a dataset with imputed zero values was able to achieve an accuracy of 74.1% and uses nearest neighbours of 7.\n",
    "\n",
    "### 6.1.4 - Test the Accuracy based on Imputing with Mean:"
   ]
  },
  {
   "cell_type": "code",
   "execution_count": 49,
   "metadata": {},
   "outputs": [],
   "source": [
    "# Divide the Dataset into its X and Y components:\n",
    "X_mean = pima_imputed.drop('onset_diabetes', axis = 1)\n",
    "y_mean = pima_imputed['onset_diabetes']"
   ]
  },
  {
   "cell_type": "code",
   "execution_count": 50,
   "metadata": {},
   "outputs": [
    {
     "name": "stdout",
     "output_type": "stream",
     "text": [
      "Model will learn from 768 rows.\n"
     ]
    }
   ],
   "source": [
    "# Check how many rows the model will be learning from:\n",
    "print(\"Model will learn from {} rows.\".format(X_zero.shape[0]))"
   ]
  },
  {
   "cell_type": "code",
   "execution_count": 51,
   "metadata": {},
   "outputs": [],
   "source": [
    "# Define the Grid Search variables and instances: parameters for KNN to try.\n",
    "knn_params = {'n_neighbors': [1, 2, 3, 4, 5, 6, 7]}\n",
    "\n",
    "# Instantiate the KNN model:\n",
    "knn_model = KNeighborsClassifier()\n"
   ]
  },
  {
   "cell_type": "code",
   "execution_count": 52,
   "metadata": {},
   "outputs": [
    {
     "name": "stdout",
     "output_type": "stream",
     "text": [
      "0.7292335115864528 {'n_neighbors': 7}\n"
     ]
    }
   ],
   "source": [
    "# Apply the model onto the dataset:\n",
    "grid = GridSearchCV(estimator = knn_model,\n",
    "                    param_grid = knn_params)\n",
    "\n",
    "grid.fit(X_mean, y_mean)\n",
    "\n",
    "# Show the Results:\n",
    "print(grid.best_score_, grid.best_params_)"
   ]
  },
  {
   "cell_type": "markdown",
   "metadata": {},
   "source": [
    "### Observation:\n",
    "\n",
    "It can be seen that the model above that utilises a dataset with imputed mean values was able to achieve an accuracy of 72.9% and uses nearest neighbours of 7.\n",
    "\n",
    "### Overall Comparison:\n",
    "\n",
    "Seems like the dataset that was imputed with the mean of each column outperformed the other models by a few percentage. The best achived score was 74.1%.\n",
    "\n",
    "## 7 - ML Pipeline with Imputed Values:\n",
    "\n",
    "The previous example has an inherent problem where the imputation of the missing values was performed on the entire dataset. Typically, the dataset would be split into two parts that are the training and testing sets. The goal would then be to train a model that is capable of generalising well. Since the imputations are also present in the test set, the model would predict well on it but when introduced to actual new data, it will fail. The means that the models did not actually learning any patterns at all.\n",
    "\n",
    "## 7.1 - Demonstrating the problem:\n",
    "\n",
    "Taking an example from a single train-test split of the dataset (e.g. from a cross-validation training phase.)"
   ]
  },
  {
   "cell_type": "code",
   "execution_count": 53,
   "metadata": {},
   "outputs": [],
   "source": [
    "# Import the required library:\n",
    "from sklearn.model_selection import train_test_split"
   ]
  },
  {
   "cell_type": "code",
   "execution_count": 54,
   "metadata": {},
   "outputs": [
    {
     "data": {
      "text/plain": [
       "serum_insulin    374\n",
       "dtype: int64"
      ]
     },
     "execution_count": 54,
     "metadata": {},
     "output_type": "execute_result"
    }
   ],
   "source": [
    "# Copy the dataset:\n",
    "X = pima_diabetes_dat[['serum_insulin']].copy()\n",
    "y = pima_diabetes_dat['onset_diabetes'].copy()\n",
    "\n",
    "# Check out the number of missing values:\n",
    "X.isnull().sum()"
   ]
  },
  {
   "cell_type": "code",
   "execution_count": 55,
   "metadata": {},
   "outputs": [
    {
     "name": "stdout",
     "output_type": "stream",
     "text": [
      "serum_insulin    155.548223\n",
      "dtype: float64\n"
     ]
    }
   ],
   "source": [
    "# Impute:\n",
    "all_data_set_mean = X.mean()\n",
    "\n",
    "\n",
    "X = X.fillna(all_data_set_mean)\n",
    "\n",
    "# Print:\n",
    "print(all_data_set_mean)\n"
   ]
  },
  {
   "cell_type": "code",
   "execution_count": 56,
   "metadata": {},
   "outputs": [],
   "source": [
    "# Taking a single split of the data:\n",
    "X_train, X_test, y_train, y_test = train_test_split(X, y, random_state = 99)\n"
   ]
  },
  {
   "cell_type": "code",
   "execution_count": 57,
   "metadata": {},
   "outputs": [
    {
     "data": {
      "text/plain": [
       "0.65625"
      ]
     },
     "execution_count": 57,
     "metadata": {},
     "output_type": "execute_result"
    }
   ],
   "source": [
    "# Fit the KNN model with the training data:\n",
    "knn = KNeighborsClassifier()\n",
    "\n",
    "# Train the model:\n",
    "knn.fit(X_train, y_train)\n",
    "\n",
    "# Compute the score of the model:\n",
    "knn.score(X_test, y_test)\n"
   ]
  },
  {
   "cell_type": "markdown",
   "metadata": {},
   "source": [
    "Here, the accuracy score can be seen to be 65.6%. This was achived from imputing the entire dataset and then proceeding to split them into the training and testing sets. This is bad because, taking the mean of the dataset does not work well, as it is not a viable option to just assume a single mean value for the entire dataset. The resultant bad model have just learnt the patterns from the testing set in order to fit the training set."
   ]
  },
  {
   "cell_type": "markdown",
   "metadata": {},
   "source": [
    "## 7.2 - Proper model training with imputation:\n",
    "\n",
    "The changes made here are done by firstly finding the mean of the training set and imputing it for both the training and testing set. The trained model here will use the training set mean values and predict unseen test data samples."
   ]
  },
  {
   "cell_type": "code",
   "execution_count": 58,
   "metadata": {},
   "outputs": [],
   "source": [
    "# Copy the dataset:\n",
    "X = pima_diabetes_dat[['serum_insulin']].copy()\n",
    "y = pima_diabetes_dat['onset_diabetes'].copy()\n",
    "\n",
    "# Check out the number of missing values:\n",
    "X.isnull().sum()\n",
    "\n",
    "# Taking a single split of the data:\n",
    "X_train, X_test, y_train, y_test = train_test_split(X, y, random_state = 99)\n"
   ]
  },
  {
   "cell_type": "code",
   "execution_count": 59,
   "metadata": {},
   "outputs": [
    {
     "name": "stdout",
     "output_type": "stream",
     "text": [
      "serum_insulin    158.546053\n",
      "dtype: float64\n"
     ]
    }
   ],
   "source": [
    "# Compute the mean of the TRAINING set:\n",
    "training_mean = X_train.mean()\n",
    "\n",
    "# Impute:\n",
    "X_train = X_train.fillna(training_mean)\n",
    "X_test = X_test.fillna(training_mean)\n",
    "\n",
    "# Print the mean:\n",
    "print(training_mean)"
   ]
  },
  {
   "cell_type": "code",
   "execution_count": 60,
   "metadata": {},
   "outputs": [
    {
     "data": {
      "text/plain": [
       "0.4895833333333333"
      ]
     },
     "execution_count": 60,
     "metadata": {},
     "output_type": "execute_result"
    }
   ],
   "source": [
    "# Fit the KNN model with the training data:\n",
    "knn = KNeighborsClassifier()\n",
    "\n",
    "# Train the model:\n",
    "knn.fit(X_train, y_train)\n",
    "\n",
    "# Compute the score of the model:\n",
    "knn.score(X_test, y_test)\n"
   ]
  },
  {
   "cell_type": "markdown",
   "metadata": {},
   "source": [
    "Immediately, the accuracy score is much lower, which is a more honest representation of the trained model's capabilities.\n",
    "\n",
    "## 7.3 - Pipeline with Imputer: (MEAN)\n",
    "\n",
    "To speed up this entire process, the structure and order of the entire process can be simplified with Pipelines."
   ]
  },
  {
   "cell_type": "code",
   "execution_count": 61,
   "metadata": {},
   "outputs": [],
   "source": [
    "# Import the required library:\n",
    "from sklearn.pipeline import Pipeline"
   ]
  },
  {
   "cell_type": "code",
   "execution_count": 62,
   "metadata": {},
   "outputs": [
    {
     "name": "stdout",
     "output_type": "stream",
     "text": [
      "0.7318394024276378 {'classify__n_neighbors': 7}\n"
     ]
    }
   ],
   "source": [
    "# Define the KNN parameters:\n",
    "knn_params = {'classify__n_neighbors': [1, 2, 3, 4, 5, 6, 7]}\n",
    "\n",
    "# Instantiate the KNN model:\n",
    "knn_model = KNeighborsClassifier()\n",
    "\n",
    "# Define the imputation method:\n",
    "mean_impute = Pipeline( [('imputer', SimpleImputer(strategy='mean')), \n",
    "                         ('classify', knn_model)]\n",
    "                      )\n",
    "\n",
    "# Set up the dataset:\n",
    "X = pima_diabetes_dat.drop('onset_diabetes', axis = 1)\n",
    "y = pima_diabetes_dat['onset_diabetes']\n",
    "\n",
    "# Apply GridSearch:\n",
    "grid = GridSearchCV(estimator = mean_impute,\n",
    "                    param_grid = knn_params)\n",
    "grid.fit(X, y)\n",
    "\n",
    "print(grid.best_score_, grid.best_params_)\n"
   ]
  },
  {
   "cell_type": "markdown",
   "metadata": {},
   "source": [
    "The accuracy score has improved to 73.2%.\n",
    "\n",
    "## 7.4 - Pipeline with Imputer: (MEDIAN):\n",
    "\n",
    "Lets try it again, but this time, the Median value will be used for imputation instead."
   ]
  },
  {
   "cell_type": "code",
   "execution_count": 63,
   "metadata": {},
   "outputs": [
    {
     "name": "stdout",
     "output_type": "stream",
     "text": [
      "0.7292589763177999 {'classify__n_neighbors': 7}\n"
     ]
    }
   ],
   "source": [
    "# Define the KNN parameters:\n",
    "knn_params = {'classify__n_neighbors': [1, 2, 3, 4, 5, 6, 7]}\n",
    "\n",
    "# Instantiate the KNN model:\n",
    "knn_model = KNeighborsClassifier()\n",
    "\n",
    "# Define the imputation method:\n",
    "median_impute = Pipeline( [('imputer', SimpleImputer(strategy='median')), \n",
    "                         ('classify', knn_model)]\n",
    "                      )\n",
    "\n",
    "# Set up the dataset:\n",
    "X = pima_diabetes_dat.drop('onset_diabetes', axis = 1)\n",
    "y = pima_diabetes_dat['onset_diabetes']\n",
    "\n",
    "# Apply GridSearch:\n",
    "grid = GridSearchCV(estimator = median_impute,\n",
    "                    param_grid = knn_params)\n",
    "grid.fit(X, y)\n",
    "\n",
    "print(grid.best_score_, grid.best_params_)\n",
    "\n"
   ]
  },
  {
   "cell_type": "markdown",
   "metadata": {},
   "source": [
    "The model did not achieve a better score at 72.9%.\n",
    "\n",
    "## 7.5 - Summary of all the Accuracy Scores:\n",
    "\n",
    "Model 1 - Dropped all missing value rows -> 73.48% Accuracy \\\n",
    "__Model 2 - Imputed will Zeros -> 74.09% Accuracy__ \\\n",
    "Model 3 - Imputed with Mean -> 73.18% Accuracy \\\n",
    "Model 4 - Imputed with Median -> 72.92% Accuracy \n",
    "\n",
    "Overall, the best performing model is Model 2. This indicates that just performing imputation (via Pipeline) with mean, median or even with zeros is not good enough. \n",
    "\n",
    "## 7.6 - Standardisation/Normalisation of the Dataset:\n",
    "\n",
    "The usage of Standardisation/Normalisation can help the model perform better. To demonstrate the effects of Standardisation/Normalisation, some EDA such as Histograms of the individual column data can be performed:"
   ]
  },
  {
   "cell_type": "code",
   "execution_count": 64,
   "metadata": {},
   "outputs": [
    {
     "data": {
      "text/plain": [
       "array([[<matplotlib.axes._subplots.AxesSubplot object at 0x7fd51352f810>,\n",
       "        <matplotlib.axes._subplots.AxesSubplot object at 0x7fd513ca9c50>,\n",
       "        <matplotlib.axes._subplots.AxesSubplot object at 0x7fd5132f5590>],\n",
       "       [<matplotlib.axes._subplots.AxesSubplot object at 0x7fd5132c2850>,\n",
       "        <matplotlib.axes._subplots.AxesSubplot object at 0x7fd513e2ca90>,\n",
       "        <matplotlib.axes._subplots.AxesSubplot object at 0x7fd5133132d0>],\n",
       "       [<matplotlib.axes._subplots.AxesSubplot object at 0x7fd5137267d0>,\n",
       "        <matplotlib.axes._subplots.AxesSubplot object at 0x7fd5134bffd0>,\n",
       "        <matplotlib.axes._subplots.AxesSubplot object at 0x7fd51321a790>]],\n",
       "      dtype=object)"
      ]
     },
     "execution_count": 64,
     "metadata": {},
     "output_type": "execute_result"
    },
    {
     "data": {
      "image/png": "[encoded data removed]",
      "text/plain": [
       "<Figure size 1080x1080 with 9 Axes>"
      ]
     },
     "metadata": {},
     "output_type": "display_data"
    }
   ],
   "source": [
    "# Instantiate the SimpleImputer:\n",
    "impute = SimpleImputer(strategy = 'mean')\n",
    "\n",
    "# Define a new DataFrame:\n",
    "pima_imputed_mean = pd.DataFrame(data = impute.fit_transform(pima_diabetes_dat), \n",
    "                                 columns = col_names)\n",
    "\n",
    "# Plot the Histograms:\n",
    "pima_imputed_mean.hist(figsize = (15,15))\n"
   ]
  },
  {
   "cell_type": "markdown",
   "metadata": {},
   "source": [
    "__NOTICE__: Here, it can be seen that the axis scales are different for each of the column data. Whereby, every column have a different mean, min, max, and standard deviation. ML model are __affected__ by these differences in scales greatly, hindering its learning capabilities. \n",
    "\n",
    "Next, the scales of the x and y axis will be changed so it is set to be the same for each of the histogram:"
   ]
  },
  {
   "cell_type": "code",
   "execution_count": 65,
   "metadata": {},
   "outputs": [
    {
     "data": {
      "text/plain": [
       "array([[<matplotlib.axes._subplots.AxesSubplot object at 0x7fd51348c2d0>,\n",
       "        <matplotlib.axes._subplots.AxesSubplot object at 0x7fd514556690>,\n",
       "        <matplotlib.axes._subplots.AxesSubplot object at 0x7fd50b31e150>],\n",
       "       [<matplotlib.axes._subplots.AxesSubplot object at 0x7fd50b3537d0>,\n",
       "        <matplotlib.axes._subplots.AxesSubplot object at 0x7fd5133fbe50>,\n",
       "        <matplotlib.axes._subplots.AxesSubplot object at 0x7fd51343a510>],\n",
       "       [<matplotlib.axes._subplots.AxesSubplot object at 0x7fd514917750>,\n",
       "        <matplotlib.axes._subplots.AxesSubplot object at 0x7fd514942250>,\n",
       "        <matplotlib.axes._subplots.AxesSubplot object at 0x7fd5149559d0>]],\n",
       "      dtype=object)"
      ]
     },
     "execution_count": 65,
     "metadata": {},
     "output_type": "execute_result"
    },
    {
     "data": {
      "image/png": "[encoded data removed]",
      "text/plain": [
       "<Figure size 1080x1080 with 9 Axes>"
      ]
     },
     "metadata": {},
     "output_type": "display_data"
    }
   ],
   "source": [
    "pima_imputed_mean.hist(figsize = (15,15),\n",
    "                        sharex = True)"
   ]
  },
  {
   "cell_type": "markdown",
   "metadata": {},
   "source": [
    "Now that the scales are set to be equal, the data can clearly be seen to be different. To deal with this kind of problem for ML model training, there are 2 categories:\n",
    "\n",
    "1) Standardisation, imposing a mathematical rule that all columns will have the same mean and standard deviation. \\\n",
    "2) Normalisation, an operation that aligns and transforms  both columns and rows to a consistent set of rules. (Setting the values to be between 0 and 1)\n",
    "\n",
    "These can be further broken down into the following:\n",
    "- Z-score Standardisation.\n",
    "- Min-max scaling.\n",
    "- Row normlisation.\n",
    "\n",
    "### 7.6.1 - Standardisation by Z-Score:\n",
    "\n",
    "Z-score standardisation output features that are normalised or rescaled to have a __mean = 0__ and __standard deviation = 1__. This ensures that the features would have uniform mean and variance.\n",
    "\n",
    "This ensures models like KNN being able to learn as best as possible so to not skew towards larger scaled features. \n",
    "\n",
    "The formula for Z-score:\n",
    "\n",
    "$$ z = \\frac{x- \\mu}{\\sigma} $$\n",
    "\n",
    "Where here,\n",
    "- $z$ is the Z-score\n",
    "- $x$ is the previous value in the dataset cell\n",
    "- $\\mu$ is the mean value of the column.\n",
    "- $\\sigma$ is the standard deviation value of the column.\n"
   ]
  },
  {
   "cell_type": "code",
   "execution_count": 66,
   "metadata": {},
   "outputs": [
    {
     "name": "stdout",
     "output_type": "stream",
     "text": [
      "0    0.864545\n",
      "1   -1.205376\n",
      "2    2.014501\n",
      "3   -1.073952\n",
      "4    0.503130\n",
      "Name: plasma_glucose_concentration, dtype: float64\n"
     ]
    }
   ],
   "source": [
    "# To compute manually: example with 'plasma_glucose_concentration'\n",
    "\n",
    "mu = pima_diabetes_dat['plasma_glucose_concentration'].mean()\n",
    "sigma = pima_diabetes_dat['plasma_glucose_concentration'].std()\n",
    "\n",
    "z_score = ( (pima_diabetes_dat['plasma_glucose_concentration'] - mu) / sigma )\n",
    "\n",
    "# Print the results:\n",
    "z_score.head()"
   ]
  },
  {
   "cell_type": "markdown",
   "metadata": {},
   "source": [
    "It can be seen that some of the values turned out to be negatives, this is because of the inherent value from the mean itself. This value would have been below the mean and resulted in a negative Z-score."
   ]
  },
  {
   "cell_type": "code",
   "execution_count": 68,
   "metadata": {},
   "outputs": [],
   "source": [
    "# Import the requried library:\n",
    "from sklearn.preprocessing import StandardScaler"
   ]
  },
  {
   "cell_type": "code",
   "execution_count": 70,
   "metadata": {},
   "outputs": [
    {
     "name": "stdout",
     "output_type": "stream",
     "text": [
      "The Mean is: 121.687 and Standard Deviation is: 30.436\n"
     ]
    },
    {
     "data": {
      "text/plain": [
       "Text(0.5, 1.0, 'Distribution of plasma_glucose_concentration')"
      ]
     },
     "execution_count": 70,
     "metadata": {},
     "output_type": "execute_result"
    },
    {
     "data": {
      "image/png": "[encoded data removed]",
      "text/plain": [
       "<Figure size 432x288 with 1 Axes>"
      ]
     },
     "metadata": {},
     "output_type": "display_data"
    }
   ],
   "source": [
    "# Before applying the Z-score:\n",
    "print(\"The Mean is: {:.3f} and Standard Deviation is: {:.3f}\".format(mu, sigma))\n",
    "\n",
    "# Plot:\n",
    "ax = pima_diabetes_dat['plasma_glucose_concentration'].hist()\n",
    "ax.set_title('Distribution of plasma_glucose_concentration')"
   ]
  },
  {
   "cell_type": "code",
   "execution_count": 73,
   "metadata": {},
   "outputs": [
    {
     "name": "stdout",
     "output_type": "stream",
     "text": [
      "The Mean is: -0.000 and Standard Deviation is: 1.000\n"
     ]
    },
    {
     "data": {
      "text/plain": [
       "Text(0.5, 1.0, 'Distribution of Z-score standardised plasma_glucose_concentration')"
      ]
     },
     "execution_count": 73,
     "metadata": {},
     "output_type": "execute_result"
    },
    {
     "data": {
      "image/png": "[encoded data removed]",
      "text/plain": [
       "<Figure size 432x288 with 1 Axes>"
      ]
     },
     "metadata": {},
     "output_type": "display_data"
    }
   ],
   "source": [
    "# After apply Scikit-Learn's Z-score:\n",
    "\n",
    "# Instantiate the Scaler:\n",
    "scaler = StandardScaler()\n",
    "\n",
    "# Apply it: uses [[]] to convert to dataframe.\n",
    "glucose_ZScore_stnd = scaler.fit_transform( pima_diabetes_dat[['plasma_glucose_concentration']] )\n",
    "\n",
    "print(\"The Mean is: {:.3f} and Standard Deviation is: {:.3f}\".format(glucose_ZScore_stnd.mean(), glucose_ZScore_stnd.std()))\n",
    "\n",
    "# Plot:\n",
    "ax = pd.Series(glucose_ZScore_stnd.reshape(-1, )).hist()\n",
    "ax.set_title('Distribution of Z-score standardised plasma_glucose_concentration')\n"
   ]
  },
  {
   "cell_type": "markdown",
   "metadata": {},
   "source": [
    "### Observation:\n",
    "\n",
    "It can be seen that the graph is slightly more constrained, meaing that the X-axis is altered to fit the new mean and standard deviation while the y-axis remains unchanged. \n",
    "\n",
    "### Now applying the Z-Score to the entire Dataset:"
   ]
  },
  {
   "cell_type": "code",
   "execution_count": 74,
   "metadata": {},
   "outputs": [
    {
     "data": {
      "text/plain": [
       "array([[<matplotlib.axes._subplots.AxesSubplot object at 0x7fd4f80c8610>,\n",
       "        <matplotlib.axes._subplots.AxesSubplot object at 0x7fd516ef8c10>,\n",
       "        <matplotlib.axes._subplots.AxesSubplot object at 0x7fd4f9331450>],\n",
       "       [<matplotlib.axes._subplots.AxesSubplot object at 0x7fd4f8844890>,\n",
       "        <matplotlib.axes._subplots.AxesSubplot object at 0x7fd4f8abcb50>,\n",
       "        <matplotlib.axes._subplots.AxesSubplot object at 0x7fd4f8f33950>],\n",
       "       [<matplotlib.axes._subplots.AxesSubplot object at 0x7fd4f92b2fd0>,\n",
       "        <matplotlib.axes._subplots.AxesSubplot object at 0x7fd4f8b86b90>,\n",
       "        <matplotlib.axes._subplots.AxesSubplot object at 0x7fd4f8ab4210>]],\n",
       "      dtype=object)"
      ]
     },
     "execution_count": 74,
     "metadata": {},
     "output_type": "execute_result"
    },
    {
     "data": {
      "image/png": "[encoded data removed]",
      "text/plain": [
       "<Figure size 1080x1080 with 9 Axes>"
      ]
     },
     "metadata": {},
     "output_type": "display_data"
    }
   ],
   "source": [
    "pima_imputed_mean_ZScore_scaled = pd.DataFrame(scaler.fit_transform(pima_imputed_mean),\n",
    "                                               columns=col_names)\n",
    "\n",
    "# Plot it all: sharex=True, for same space.\n",
    "pima_imputed_mean_ZScore_scaled.hist(figsize = (15, 15), sharex=True)"
   ]
  },
  {
   "cell_type": "markdown",
   "metadata": {},
   "source": [
    "### Observation:\n",
    "\n",
    "The x-axis are all constrained for all the columns. Next is to check out if this improves the performance of the model.\n",
    "\n",
    "### KNN performance:"
   ]
  },
  {
   "cell_type": "code",
   "execution_count": 86,
   "metadata": {},
   "outputs": [
    {
     "name": "stdout",
     "output_type": "stream",
     "text": [
      "0.7539173245055598 {'classify__n_neighbors': 7, 'imputer__strategy': 'mean'}\n"
     ]
    }
   ],
   "source": [
    "knn_params = {'imputer__strategy': ['mean', 'median'],\n",
    "              'classify__n_neighbors': [1, 2, 3, 4, 5, 6, 7]\n",
    "             }\n",
    "\n",
    "# Create a pipeline:\n",
    "mean_impute_standardise = Pipeline( [('imputer', SimpleImputer()), \n",
    "                                     ('standardize', StandardScaler()),\n",
    "                                     ('classify', knn_model)]\n",
    "                                  )\n",
    "\n",
    "X = pima_diabetes_dat.drop('onset_diabetes', axis = 1)\n",
    "y = pima_diabetes_dat['onset_diabetes']\n",
    "\n",
    "# Grid Search:\n",
    "grid = GridSearchCV(estimator = mean_impute_standardise, \n",
    "                    param_grid = knn_params)\n",
    "\n",
    "# Fit:\n",
    "grid.fit(X, y)\n",
    "\n",
    "# Print Scores:\n",
    "print(grid.best_score_, grid.best_params_)"
   ]
  },
  {
   "cell_type": "markdown",
   "metadata": {},
   "source": [
    "### Observation:\n",
    "\n",
    "With the pipeline above, applying the StandardScaler, the KNN model was able to learn and perform better at 75.4% accuracy. This is because the model with this pipeline have learnt from all 768 rows of data."
   ]
  },
  {
   "cell_type": "markdown",
   "metadata": {},
   "source": [
    "### 7.6.2 - Min-Max Scaling:\n",
    "\n",
    "The Min-Max scaling method replaces eveery value in a column with a new value. This method as meantioned is a column normalisation method, unlike z-score. It follows the formula:\n",
    "\n",
    "$$ m = \\frac{(x - x_{min})}{(x_{max} - x_{min})} $$ \n",
    "\n",
    "Where here,\n",
    "- $m$ is the new value.\n",
    "- $x$ is the original value.\n",
    "- $x_{min}$ is the minimum value of the column.\n",
    "- $x_{max}$ is the maximum value of the column.\n",
    "\n",
    "With the formula, it can be seen that the values would only have a range between 0 and 1.\n"
   ]
  },
  {
   "cell_type": "code",
   "execution_count": 87,
   "metadata": {},
   "outputs": [],
   "source": [
    "# Import the required Library:\n",
    "from sklearn.preprocessing import MinMaxScaler"
   ]
  },
  {
   "cell_type": "code",
   "execution_count": 88,
   "metadata": {},
   "outputs": [
    {
     "data": {
      "text/html": [
       "<div>\n",
       "<style scoped>\n",
       "    .dataframe tbody tr th:only-of-type {\n",
       "        vertical-align: middle;\n",
       "    }\n",
       "\n",
       "    .dataframe tbody tr th {\n",
       "        vertical-align: top;\n",
       "    }\n",
       "\n",
       "    .dataframe thead th {\n",
       "        text-align: right;\n",
       "    }\n",
       "</style>\n",
       "<table border=\"1\" class=\"dataframe\">\n",
       "  <thead>\n",
       "    <tr style=\"text-align: right;\">\n",
       "      <th></th>\n",
       "      <th>times_pregnant</th>\n",
       "      <th>plasma_glucose_concentration</th>\n",
       "      <th>diastolic_blood_pressure</th>\n",
       "      <th>triceps_thickness</th>\n",
       "      <th>serum_insulin</th>\n",
       "      <th>bmi</th>\n",
       "      <th>pedigree_function</th>\n",
       "      <th>age</th>\n",
       "      <th>onset_diabetes</th>\n",
       "    </tr>\n",
       "  </thead>\n",
       "  <tbody>\n",
       "    <tr>\n",
       "      <th>count</th>\n",
       "      <td>768.000000</td>\n",
       "      <td>768.000000</td>\n",
       "      <td>768.000000</td>\n",
       "      <td>768.000000</td>\n",
       "      <td>768.000000</td>\n",
       "      <td>768.000000</td>\n",
       "      <td>768.000000</td>\n",
       "      <td>768.000000</td>\n",
       "      <td>768.000000</td>\n",
       "    </tr>\n",
       "    <tr>\n",
       "      <th>mean</th>\n",
       "      <td>0.226180</td>\n",
       "      <td>0.501205</td>\n",
       "      <td>0.493930</td>\n",
       "      <td>0.240798</td>\n",
       "      <td>0.170130</td>\n",
       "      <td>0.291564</td>\n",
       "      <td>0.168179</td>\n",
       "      <td>0.204015</td>\n",
       "      <td>0.348958</td>\n",
       "    </tr>\n",
       "    <tr>\n",
       "      <th>std</th>\n",
       "      <td>0.198210</td>\n",
       "      <td>0.196361</td>\n",
       "      <td>0.123432</td>\n",
       "      <td>0.095554</td>\n",
       "      <td>0.102189</td>\n",
       "      <td>0.140596</td>\n",
       "      <td>0.141473</td>\n",
       "      <td>0.196004</td>\n",
       "      <td>0.476951</td>\n",
       "    </tr>\n",
       "    <tr>\n",
       "      <th>min</th>\n",
       "      <td>0.000000</td>\n",
       "      <td>0.000000</td>\n",
       "      <td>0.000000</td>\n",
       "      <td>0.000000</td>\n",
       "      <td>0.000000</td>\n",
       "      <td>0.000000</td>\n",
       "      <td>0.000000</td>\n",
       "      <td>0.000000</td>\n",
       "      <td>0.000000</td>\n",
       "    </tr>\n",
       "    <tr>\n",
       "      <th>25%</th>\n",
       "      <td>0.058824</td>\n",
       "      <td>0.359677</td>\n",
       "      <td>0.408163</td>\n",
       "      <td>0.195652</td>\n",
       "      <td>0.129207</td>\n",
       "      <td>0.190184</td>\n",
       "      <td>0.070773</td>\n",
       "      <td>0.050000</td>\n",
       "      <td>0.000000</td>\n",
       "    </tr>\n",
       "    <tr>\n",
       "      <th>50%</th>\n",
       "      <td>0.176471</td>\n",
       "      <td>0.470968</td>\n",
       "      <td>0.491863</td>\n",
       "      <td>0.240798</td>\n",
       "      <td>0.170130</td>\n",
       "      <td>0.290389</td>\n",
       "      <td>0.125747</td>\n",
       "      <td>0.133333</td>\n",
       "      <td>0.000000</td>\n",
       "    </tr>\n",
       "    <tr>\n",
       "      <th>75%</th>\n",
       "      <td>0.352941</td>\n",
       "      <td>0.620968</td>\n",
       "      <td>0.571429</td>\n",
       "      <td>0.271739</td>\n",
       "      <td>0.170130</td>\n",
       "      <td>0.376278</td>\n",
       "      <td>0.234095</td>\n",
       "      <td>0.333333</td>\n",
       "      <td>1.000000</td>\n",
       "    </tr>\n",
       "    <tr>\n",
       "      <th>max</th>\n",
       "      <td>1.000000</td>\n",
       "      <td>1.000000</td>\n",
       "      <td>1.000000</td>\n",
       "      <td>1.000000</td>\n",
       "      <td>1.000000</td>\n",
       "      <td>1.000000</td>\n",
       "      <td>1.000000</td>\n",
       "      <td>1.000000</td>\n",
       "      <td>1.000000</td>\n",
       "    </tr>\n",
       "  </tbody>\n",
       "</table>\n",
       "</div>"
      ],
      "text/plain": [
       "       times_pregnant  plasma_glucose_concentration  diastolic_blood_pressure  \\\n",
       "count      768.000000                    768.000000                768.000000   \n",
       "mean         0.226180                      0.501205                  0.493930   \n",
       "std          0.198210                      0.196361                  0.123432   \n",
       "min          0.000000                      0.000000                  0.000000   \n",
       "25%          0.058824                      0.359677                  0.408163   \n",
       "50%          0.176471                      0.470968                  0.491863   \n",
       "75%          0.352941                      0.620968                  0.571429   \n",
       "max          1.000000                      1.000000                  1.000000   \n",
       "\n",
       "       triceps_thickness  serum_insulin         bmi  pedigree_function  \\\n",
       "count         768.000000     768.000000  768.000000         768.000000   \n",
       "mean            0.240798       0.170130    0.291564           0.168179   \n",
       "std             0.095554       0.102189    0.140596           0.141473   \n",
       "min             0.000000       0.000000    0.000000           0.000000   \n",
       "25%             0.195652       0.129207    0.190184           0.070773   \n",
       "50%             0.240798       0.170130    0.290389           0.125747   \n",
       "75%             0.271739       0.170130    0.376278           0.234095   \n",
       "max             1.000000       1.000000    1.000000           1.000000   \n",
       "\n",
       "              age  onset_diabetes  \n",
       "count  768.000000      768.000000  \n",
       "mean     0.204015        0.348958  \n",
       "std      0.196004        0.476951  \n",
       "min      0.000000        0.000000  \n",
       "25%      0.050000        0.000000  \n",
       "50%      0.133333        0.000000  \n",
       "75%      0.333333        1.000000  \n",
       "max      1.000000        1.000000  "
      ]
     },
     "execution_count": 88,
     "metadata": {},
     "output_type": "execute_result"
    }
   ],
   "source": [
    "# To compute manually: \n",
    "\n",
    "# Instantiate the Scaler:\n",
    "min_max_scaler = MinMaxScaler()\n",
    "\n",
    "# Apply it:\n",
    "pima_minMax_scaled = pd.DataFrame(min_max_scaler.fit_transform(pima_imputed),\n",
    "                                 columns= col_names)\n",
    "\n",
    "# Print the descriptive statistics:\n",
    "pima_minMax_scaled.describe()"
   ]
  },
  {
   "cell_type": "markdown",
   "metadata": {},
   "source": [
    "### Observation:\n",
    "\n",
    "Checking the DataFrame, all the values (seen with Min and Max) are all in ranges between 0 and 1. Another things is that the standard deviation for all the columns are quite small, and this could be due to applying this type of scalling transformation on the dataset.\n",
    "\n",
    "Note: The smaller standard deviation value can cause models to underperform, as it may take away weight from outliers.\n",
    "\n",
    "### KNN performance with Min_Max Pipeline:\n"
   ]
  },
  {
   "cell_type": "code",
   "execution_count": 89,
   "metadata": {},
   "outputs": [
    {
     "name": "stdout",
     "output_type": "stream",
     "text": [
      "0.7630336983278159 {'classify__n_neighbors': 7, 'imputer__strategy': 'median'}\n"
     ]
    }
   ],
   "source": [
    "knn_params = {'imputer__strategy': ['mean', 'median'],\n",
    "              'classify__n_neighbors': [1, 2, 3, 4, 5, 6, 7]\n",
    "             }\n",
    "\n",
    "# Create a pipeline:\n",
    "mean_impute_standardise = Pipeline( [('imputer', SimpleImputer()), \n",
    "                                     ('standardize', MinMaxScaler()),\n",
    "                                     ('classify', knn_model)]\n",
    "                                  )\n",
    "\n",
    "X = pima_diabetes_dat.drop('onset_diabetes', axis = 1)\n",
    "y = pima_diabetes_dat['onset_diabetes']\n",
    "\n",
    "# Grid Search:\n",
    "grid = GridSearchCV(estimator = mean_impute_standardise, \n",
    "                    param_grid = knn_params)\n",
    "\n",
    "# Fit:\n",
    "grid.fit(X, y)\n",
    "\n",
    "# Print Scores:\n",
    "print(grid.best_score_, grid.best_params_)"
   ]
  },
  {
   "cell_type": "markdown",
   "metadata": {},
   "source": [
    "### Observation:\n",
    "\n",
    "With the pipeline above, applying the MinMaxScaler, the KNN model was able to learn and perform better than applying StandardScaler method at 76.3% accuracy. As similar to earlier the model with this pipeline have learnt from all 768 rows of data.\n",
    "\n",
    "Overall, MinMaxScaler method has helped the model a great deal!"
   ]
  },
  {
   "cell_type": "markdown",
   "metadata": {},
   "source": [
    "### 7.6.3 - Row Normalisation:\n",
    "\n",
    "Here is a Row-wise normalisation method, where instead of computing the column's mean, min, max etc. This technique ensures that the rows have a unit norm with the same vector length. \n",
    "\n",
    "The formula:\n",
    "\n",
    "$$ x = (x_{1}, x_{2}, ..., x_{n}) $$\n",
    "\n",
    "and the following is the __L2-norm__ and would be computed as:\n",
    "\n",
    "$$ \\lvert \\lvert x \\rvert \\rvert = \\sqrt{(x_{1}^{2} + x_{2}^{2} + ... + x_{n}^{2})} $$\n",
    "\n",
    "Where here,\n",
    "- $n$ is the number of features (columns).\n",
    "\n",
    "For the purposes of text data and clustering algorithms, this kind of normalisation is very useful.\n",
    "\n",
    "\n"
   ]
  },
  {
   "cell_type": "code",
   "execution_count": 91,
   "metadata": {},
   "outputs": [],
   "source": [
    "# Import the required library:\n",
    "from sklearn.preprocessing import Normalizer"
   ]
  },
  {
   "cell_type": "code",
   "execution_count": 92,
   "metadata": {},
   "outputs": [
    {
     "data": {
      "text/plain": [
       "1.0"
      ]
     },
     "execution_count": 92,
     "metadata": {},
     "output_type": "execute_result"
    }
   ],
   "source": [
    "# To compute manually: \n",
    "np.sqrt( (pima_imputed**2).sum(axis = 1)).mean()\n",
    "\n",
    "# Instantiate the Normaliser:\n",
    "normaliser = Normalizer()\n",
    "\n",
    "# Apply it:\n",
    "pima_normalised = pd.DataFrame(normaliser.fit_transform(pima_imputed),\n",
    "                               columns=col_names)\n",
    "\n",
    "# Compute the L2-Norm:\n",
    "np.sqrt( (pima_normalised**2).sum(axis=1) ).mean()"
   ]
  },
  {
   "cell_type": "markdown",
   "metadata": {},
   "source": [
    "### KNN performance with Row-Normaliser Pipeline:"
   ]
  },
  {
   "cell_type": "code",
   "execution_count": 93,
   "metadata": {},
   "outputs": [
    {
     "name": "stdout",
     "output_type": "stream",
     "text": [
      "0.7006111535523301 {'classify__n_neighbors': 7, 'imputer__strategy': 'median'}\n"
     ]
    }
   ],
   "source": [
    "knn_params = {'imputer__strategy': ['mean', 'median'],\n",
    "              'classify__n_neighbors': [1, 2, 3, 4, 5, 6, 7]\n",
    "             }\n",
    "\n",
    "# Create a pipeline:\n",
    "mean_impute_standardise = Pipeline( [('imputer', SimpleImputer()), \n",
    "                                     ('standardize', Normalizer()),\n",
    "                                     ('classify', knn_model)]\n",
    "                                  )\n",
    "\n",
    "X = pima_diabetes_dat.drop('onset_diabetes', axis = 1)\n",
    "y = pima_diabetes_dat['onset_diabetes']\n",
    "\n",
    "# Grid Search:\n",
    "grid = GridSearchCV(estimator = mean_impute_standardise, \n",
    "                    param_grid = knn_params)\n",
    "\n",
    "# Fit:\n",
    "grid.fit(X, y)\n",
    "\n",
    "# Print Scores:\n",
    "print(grid.best_score_, grid.best_params_)"
   ]
  },
  {
   "cell_type": "markdown",
   "metadata": {},
   "source": [
    "### Observation:\n",
    "\n",
    "From the results, the model did not perform any better than the previous two attempts. \n",
    "\n",
    "## 8 - Overall Conclusion:\n",
    "\n",
    "Model 1 - Dropped all missing value rows -> 73.48% Accuracy (only learnt from 392 rows of data) \\\n",
    "Model 2 - Imputed will Zeros -> 74.09% Accuracy \\\n",
    "Model 3 - Imputed with Mean -> 73.18% Accuracy \\\n",
    "Model 4 - Imputed with Median -> 72.92% Accuracy \\\n",
    "Model 5 - Standardised with Z-score-> 75.38% Accuracy \\\n",
    "__Model 6 - Standardised with Min_Max -> 76.30% Accuracy__ \\\n",
    "Model 7 - Standardised with Row-norm (l2-norm) -> 70.06% Accuracy \n",
    "\n",
    "Model 6 can be seen to have performed the best after all the experimenting. Note that model 2 to 7 learnt from all the rows of the dataset."
   ]
  },
  {
   "cell_type": "markdown",
   "metadata": {},
   "source": [
    "## Summary:\n",
    "\n",
    "From this project, I was able to reinforce my knowledge in dealing with a dataset by cleaning it. Improving the model's performance with pipelines utilising different imputation and normalisation/standardisation techniques. Majority of the issues dealt with here are with quatitative features."
   ]
  }
 ],
 "metadata": {
  "kernelspec": {
   "display_name": "Python 3",
   "language": "python",
   "name": "python3"
  },
  "language_info": {
   "codemirror_mode": {
    "name": "ipython",
    "version": 3
   },
   "file_extension": ".py",
   "mimetype": "text/x-python",
   "name": "python",
   "nbconvert_exporter": "python",
   "pygments_lexer": "ipython3",
   "version": "3.7.7"
  }
 },
 "nbformat": 4,
 "nbformat_minor": 4
}
