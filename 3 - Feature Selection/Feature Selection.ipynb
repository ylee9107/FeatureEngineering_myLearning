{
 "cells": [
  {
   "cell_type": "markdown",
   "metadata": {},
   "source": [
    "# 5 - Feature Selection\n",
    "\n",
    "## Introduction:\n",
    "\n",
    "One of the most common problem in a dataset is __Noise__. Noise are features within the dataset that may not be highly predictive of the response variable, and in some cases will hinder the ML model's performance. There are techniques that can be employed to deal with the Noise to a certain degree, as done in previous projects, this woud include standardisation and normalisation. However, these two techniques does not directly deal with the Noise in the data. \n",
    "\n",
    "This is where __Feature Selection__ comes into play, where it is the process of selecting features from the original batch of features from the dataset, that produces the best model prediction outcome in a pipeline. Formally, this can be described as, given \"n\" number of features, search a subset \"k\" features, where \"k < n\", that improves thhe ML modeling pipeline.\n",
    "\n",
    "This project will venture into 2 sections:\n",
    "1. Statistical-based feature selection\n",
    "2. Model-based feature selection.\n",
    "\n",
    "## Breakdown of this Project:\n",
    "- How to gain better performance with feature engineering.\n",
    "- Creating a baseline ML modeling pipeline.\n",
    "- Types of Feature Selection.\n",
    "- Choosing the right feature selection method. \n",
    "\n",
    "## Datasets:\n",
    "\n",
    "Link: https://archive.ics.uci.edu/ml/datasets/default+of+credit+card+clients\n",
    "\n",
    "Dataset Description: This dataset consists of customer's default payments in Taiwan.\n",
    "\n",
    "Attribute Information:\n",
    "\n",
    "The target variable is binary, default payment (Yes = 1, No = 0).\n",
    "\n",
    "There are 23 feature (attribute) variables:\n",
    "- X1: Amount of the given credit (NT dollar): it includes both the individual consumer credit and his/her family (supplementary) credit.\n",
    "- X2: Gender (1 = male; 2 = female).\n",
    "- X3: Education (1 = graduate school; 2 = university; 3 = high school; 4 = others).\n",
    "- X4: Marital status (1 = married; 2 = single; 3 = others).\n",
    "- X5: Age (year).\n",
    "- X6 - X11: History of past payment. We tracked the past monthly payment records (from April to September, 2005) as follows: X6 = the repayment status in September, 2005; X7 = the repayment status in August, 2005; . . .;X11 = the repayment status in April, 2005. The measurement scale for the repayment status is: -1 = pay duly; 1 = payment delay for one month; 2 = payment delay for two months; . . .; 8 = payment delay for eight months; 9 = payment delay for nine months and above.\n",
    "- X12-X17: Amount of bill statement (NT dollar). X12 = amount of bill statement in September, 2005; X13 = amount of bill statement in August, 2005; . . .; X17 = amount of bill statement in April, 2005.\n",
    "- X18-X23: Amount of previous payment (NT dollar). X18 = amount paid in September, 2005; X19 = amount paid in August, 2005; . . .;X23 = amount paid in April, 2005.\n",
    "\n",
    "## Requirements:\n",
    "- sklearn (scikit-learn)\n",
    "- numpy\n",
    "- pandas\n",
    " \n",
    "\n"
   ]
  },
  {
   "cell_type": "markdown",
   "metadata": {},
   "source": [
    "## 1 - How to gain better performance with feature engineering?\n",
    "\n",
    "In previous projects, tthe accuracy or RSME metrics of the model predictions were used to measure its performance. There are of course othehr metircs that can be utilised and to name a few, these are:\n",
    "\n",
    "For classification tasks:\n",
    "1. True and False Positive rates.\n",
    "2. Sensitivity (TP rate) and specificity.\n",
    "3. False negatives and False positve rate.\n",
    "\n",
    "For Regression tasks:\n",
    "1. Mean Absolute Error.\n",
    "2. R-squared.\n",
    "\n",
    "An alternative to model performance metrics are the Meta-Metrics, such as:\n",
    "- Time taken to train the model to the dataset.\n",
    "- Time taken for a fitted model to predict on new instances of the data.\n",
    "- The size of the data that is persisted.\n",
    "\n",
    "### 1.1 - Metric Tracking:\n",
    "\n",
    "To help track these metrics bettwe, define a function to evaluate on several model's performance, and it should be specific enough to provide metrics for each individual model."
   ]
  },
  {
   "cell_type": "code",
   "execution_count": null,
   "metadata": {},
   "outputs": [],
   "source": []
  },
  {
   "cell_type": "code",
   "execution_count": null,
   "metadata": {},
   "outputs": [],
   "source": []
  },
  {
   "cell_type": "code",
   "execution_count": null,
   "metadata": {},
   "outputs": [],
   "source": []
  },
  {
   "cell_type": "code",
   "execution_count": null,
   "metadata": {},
   "outputs": [],
   "source": []
  },
  {
   "cell_type": "code",
   "execution_count": null,
   "metadata": {},
   "outputs": [],
   "source": []
  },
  {
   "cell_type": "code",
   "execution_count": null,
   "metadata": {},
   "outputs": [],
   "source": []
  },
  {
   "cell_type": "code",
   "execution_count": null,
   "metadata": {},
   "outputs": [],
   "source": []
  },
  {
   "cell_type": "code",
   "execution_count": null,
   "metadata": {},
   "outputs": [],
   "source": []
  },
  {
   "cell_type": "code",
   "execution_count": null,
   "metadata": {},
   "outputs": [],
   "source": []
  },
  {
   "cell_type": "code",
   "execution_count": null,
   "metadata": {},
   "outputs": [],
   "source": []
  },
  {
   "cell_type": "code",
   "execution_count": null,
   "metadata": {},
   "outputs": [],
   "source": []
  },
  {
   "cell_type": "code",
   "execution_count": null,
   "metadata": {},
   "outputs": [],
   "source": []
  },
  {
   "cell_type": "code",
   "execution_count": null,
   "metadata": {},
   "outputs": [],
   "source": [
    "break"
   ]
  },
  {
   "cell_type": "code",
   "execution_count": null,
   "metadata": {},
   "outputs": [],
   "source": [
    "<img src=\"Description Images/.png\" width=\"750\">\n",
    "\n",
    "Image Ref -> "
   ]
  }
 ],
 "metadata": {
  "kernelspec": {
   "display_name": "Python 3",
   "language": "python",
   "name": "python3"
  },
  "language_info": {
   "codemirror_mode": {
    "name": "ipython",
    "version": 3
   },
   "file_extension": ".py",
   "mimetype": "text/x-python",
   "name": "python",
   "nbconvert_exporter": "python",
   "pygments_lexer": "ipython3",
   "version": "3.7.7"
  }
 },
 "nbformat": 4,
 "nbformat_minor": 4
}
