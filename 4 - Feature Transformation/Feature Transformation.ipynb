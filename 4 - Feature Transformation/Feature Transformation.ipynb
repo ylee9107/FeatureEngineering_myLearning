{
 "cells": [
  {
   "cell_type": "markdown",
   "metadata": {},
   "source": [
    "# 6 - Feature Transformation\n",
    "\n",
    "## Introduction:\n",
    "\n",
    "In this project, methods for handling datasets that presents with large amounts of feature (columns) or even highly un-interpretable features will be covered, whereby it employs purely mathematical transformations that relies on programming and mathematics (linear algebra) to transform the dataset. The algorithms wwere designed to alter the internal structure of the dataset to produce new columns (new matrix of data) that captures the __variance__ of the data.\n",
    "\n",
    "## Breakdown of this Project:\n",
    "- Dimension reduction\n",
    "- Principal Component Analysis (PCA)\n",
    "- Applying PCA manually\n",
    "- Applying Scikit-learn's PCA\n",
    "- Linear Discriminant Analysis (LDA)\n",
    "- Applying LDA manually\n",
    "- Applying Scikit-learn's LDA\n",
    "\n",
    "## Datasets:\n",
    "\n",
    "Link: https://archive.ics.uci.edu/ml/datasets/iris\n",
    "\n",
    "Dataset Description: This Dataset has been widely used for pattern recognition. The dataset consists of 3 classes with 50 instances each, where each class represents a type of iris plant. One class is linearly separable from the other 2; the latter are NOT linearly separable from each other.\n",
    "\n",
    "Attribute Information:\n",
    "1. sepal length in cm\n",
    "2. sepal width in cm\n",
    "3. petal length in cm\n",
    "4. petal width in cm\n",
    "5. class: Iris Setosa, Iris Versicolour, Iris Virginica\n",
    "\n",
    "## Requirements:\n",
    "- sklearn (scikit-learn)\n",
    "- numpy\n",
    "- pandas\n",
    "- os\n",
    "- timeit\n",
    "- seaborn\n"
   ]
  },
  {
   "cell_type": "markdown",
   "metadata": {},
   "source": [
    "## 1 - Dimension reduction:\n",
    "\n",
    "Aside from from Feature Selection in the previous project, the two new concepts to be brought up here are __Feature Construction__ and __Feature Transformation__. \n",
    "\n",
    "For __Feature Construction__:\n",
    "\n",
    "This technique also constructs new columns (features), but is limited to utilising simple operations such as addition, multiplication and so on between a few columns at a time. This means that the output columns are based off of the original dataset, and with the use of the mentioned operations, this would also lead to an explosive amount of features. However, the goal here would be to create enough features to capture much of the feature interactions that the ML models can benefit from.\n",
    "\n",
    "For __Feature Transformation__:\n",
    "\n",
    "This technique aims to create new columns (features) by using the hidden sttructures within the dataset to output completely new and structurally different dataset. This technique uses linear alegbra (matrices) to extract the latent structure from the original dataset. This inherently captures the variance of the data, which will be very useful from the ML model to learn from. The new columns is able to utilise smaller bits of information from all of the orginal columns, which means that it does not need to excessively create a large number of columns like in Feature Constuction. \n",
    "\n",
    "## 2 - Principal Component Analysis (PCA):\n",
    "\n",
    "PCA falls under the Feature Transformation technique, where it takes several correlated features from the dataset and projects them onto a coordinate (axis) space that has fewer correlated features. These new uncorrelated columns (features) are called __Principal Components__. Principal Components serves as an alternative coordinate system to the original feature space, whhere it requires fewer features that is able to capture most of the variance as possible. \n",
    "\n",
    "PCA (unsupervised algorithm) identifies pattterns and laten structures that is inherent to the dataset to create the new columns. If the original dataset is sized at (n x d), where n = no. of observations and d = no. of original features, the projected PCA matrix is then (n x k), where k should be less than d.\n",
    "\n",
    "Visually:\n",
    "\n",
    "<img src=\"Description Images/FeatureTransformation_1.PNG\" width=\"450\">\n",
    "\n",
    "Image Ref -> Self-made.\n",
    "\n",
    "Principal components are ordered by variance explained, where the 1st Principal Component is able to describe most of the variance in the data, while 2nd Principal Component does the second most to explain the variance in the data.\n",
    "\n",
    "#### PCA Process:\n",
    "\n",
    "This can be broken down into 4 steps:\n",
    "1. Create or compute the covariance matrix of the dataset.\n",
    "2. Compute the Eigenvalues of the covariance matrix.\n",
    "3. Keep the top-k eigenvalues by sorting them.\n",
    "4. Transform the dataset with these top-k eigenvalues to create new data points.\n"
   ]
  },
  {
   "cell_type": "markdown",
   "metadata": {},
   "source": [
    "## 3 - Perform PCA with the IRIS dataset: manual computation.\n",
    "\n",
    "### 3.1 - Import the dataset: Iris.\n",
    "\n",
    "Luckily, this dataset is also available within the sklearn package."
   ]
  },
  {
   "cell_type": "code",
   "execution_count": 1,
   "metadata": {},
   "outputs": [],
   "source": [
    "# Import thhe required Libraies:\n",
    "from sklearn.datasets import load_iris\n",
    "import matplotlib.pyplot as plt\n",
    "\n",
    "%matplotlib inline"
   ]
  },
  {
   "cell_type": "code",
   "execution_count": 2,
   "metadata": {},
   "outputs": [],
   "source": [
    "# Load in the dataset:\n",
    "iris_data_df = load_iris()"
   ]
  },
  {
   "cell_type": "markdown",
   "metadata": {},
   "source": [
    "### 3.1 - Split the dataset into X and Y:"
   ]
  },
  {
   "cell_type": "code",
   "execution_count": 5,
   "metadata": {},
   "outputs": [],
   "source": [
    "X_iris, y_iris = iris_data_df.data, iris_data_df.target"
   ]
  },
  {
   "cell_type": "code",
   "execution_count": 6,
   "metadata": {},
   "outputs": [
    {
     "name": "stdout",
     "output_type": "stream",
     "text": [
      "['setosa' 'versicolor' 'virginica']\n",
      "['sepal length (cm)', 'sepal width (cm)', 'petal length (cm)', 'petal width (cm)']\n"
     ]
    }
   ],
   "source": [
    "# Inspect the Target Variable:\n",
    "print(iris_data_df.target_names)\n",
    "\n",
    "# Inspect the Feature Variables:\n",
    "print(iris_data_df.feature_names)"
   ]
  },
  {
   "cell_type": "markdown",
   "metadata": {},
   "source": [
    "### 3.3 - Exploratory Data Analysis:\n",
    "\n",
    "#### 3.3.1 - Visualise the dataset:"
   ]
  },
  {
   "cell_type": "code",
   "execution_count": 8,
   "metadata": {},
   "outputs": [],
   "source": [
    "# Define the Labels Dict:\n",
    "label_dict_iris = {i: k for i, k in enumerate(iris_data_df.target_names)}"
   ]
  },
  {
   "cell_type": "code",
   "execution_count": 9,
   "metadata": {},
   "outputs": [],
   "source": [
    "# Define a function for plotting:\n",
    "def plot_iris(X, y, title, x_label, y_label):\n",
    "    \"\"\" This funtion will plot the Iris Dataset.\n",
    "    Parameters:\n",
    "        - X, is the input features data.\n",
    "        - y, is the target variable.\n",
    "        - x_label, is the x-axis labels.\n",
    "        - y_label, is the y-axis labels.\n",
    "    Returns:\n",
    "        - returns a plot (visualisation) of the input dataset.\n",
    "    \"\"\"\n",
    "    # Set the position of thhe subplot:\n",
    "    ax = plt.subplot(111)\n",
    "    \n",
    "    # Plot:\n",
    "    for label, marker, color in zip( range(3), ('^', 's', 'o'), ('blue', 'red', 'green') ):\n",
    "\n",
    "        plt.scatter(x=X[:,0].real[y == label],\n",
    "                    y=X[:,1].real[y == label],\n",
    "                    color=color,\n",
    "                    alpha=0.5,\n",
    "                    label=label_dict_iris[label]\n",
    "                   )\n",
    "\n",
    "    plt.xlabel(x_label)\n",
    "    plt.ylabel(y_label)\n",
    "\n",
    "    leg = plt.legend(loc='upper right', fancybox=True)\n",
    "    leg.get_frame().set_alpha(0.5)\n",
    "    plt.title(title)"
   ]
  },
  {
   "cell_type": "code",
   "execution_count": 11,
   "metadata": {},
   "outputs": [
    {
     "data": {
      "image/png": "[encoded data removed]",
      "text/plain": [
       "<Figure size 432x288 with 1 Axes>"
      ]
     },
     "metadata": {
      "needs_background": "light"
     },
     "output_type": "display_data"
    }
   ],
   "source": [
    "# Apply the function:\n",
    "plot_iris(X_iris, y_iris, \"Original Iris Data\", \"sepal length (cm)\", \"sepal width (cm)\")"
   ]
  },
  {
   "cell_type": "markdown",
   "metadata": {},
   "source": [
    "### 3.4 - Manual Computation of PCA:\n",
    "\n",
    "As mentioned earlier, this can be broken down into 4 steps:\n",
    "1. Create or compute the covariance matrix of the dataset.\n",
    "2. Compute the Eigenvalues of the covariance matrix.\n",
    "3. Keep the top-k eigenvalues by sorting them.\n",
    "4. Transform the dataset with these top-k eigenvalues to create new data points.\n"
   ]
  },
  {
   "cell_type": "code",
   "execution_count": 12,
   "metadata": {},
   "outputs": [],
   "source": [
    "# Import the required Libraries:\n",
    "import numpy as np"
   ]
  },
  {
   "cell_type": "code",
   "execution_count": 16,
   "metadata": {},
   "outputs": [
    {
     "name": "stdout",
     "output_type": "stream",
     "text": [
      "The mean value for each column are: [5.84333333 3.05733333 3.758      1.19933333]\n",
      "The shape of the covariance matrix is: (4, 4)\n"
     ]
    }
   ],
   "source": [
    "# Step 1 - Compute the covariance matrix of the dataset:\n",
    "\n",
    "# Compute the mean:\n",
    "mean_vector = X_iris.mean(axis=0)\n",
    "print(\"The mean value for each column are: {}\".format(mean_vector))\n",
    "\n",
    "# Compute the Covariance Matrix:\n",
    "covariance_matrix_iris = np.cov(m=(X_iris).T)\n",
    "print(\"The shape of the covariance matrix is: {}\".format(covariance_matrix_iris.shape))\n"
   ]
  },
  {
   "cell_type": "code",
   "execution_count": 18,
   "metadata": {},
   "outputs": [
    {
     "data": {
      "text/plain": [
       "array([[ 0.68569351, -0.042434  ,  1.27431544,  0.51627069],\n",
       "       [-0.042434  ,  0.18997942, -0.32965638, -0.12163937],\n",
       "       [ 1.27431544, -0.32965638,  3.11627785,  1.2956094 ],\n",
       "       [ 0.51627069, -0.12163937,  1.2956094 ,  0.58100626]])"
      ]
     },
     "execution_count": 18,
     "metadata": {},
     "output_type": "execute_result"
    }
   ],
   "source": [
    "# Inspect the Covariance Matrix:\n",
    "covariance_matrix_iris"
   ]
  },
  {
   "cell_type": "code",
   "execution_count": 21,
   "metadata": {},
   "outputs": [
    {
     "name": "stdout",
     "output_type": "stream",
     "text": [
      "Eigenvector 1: \n",
      "[ 0.36138659 -0.08452251  0.85667061  0.3582892 ]\n",
      "Eigenvalue 1 from covariance matrix: 4.228241706034864\n",
      "------------------------------\n",
      "Eigenvector 2: \n",
      "[-0.65658877 -0.73016143  0.17337266  0.07548102]\n",
      "Eigenvalue 2 from covariance matrix: 0.24267074792863386\n",
      "------------------------------\n",
      "Eigenvector 3: \n",
      "[-0.58202985  0.59791083  0.07623608  0.54583143]\n",
      "Eigenvalue 3 from covariance matrix: 0.078209500042919\n",
      "------------------------------\n",
      "Eigenvector 4: \n",
      "[ 0.31548719 -0.3197231  -0.47983899  0.75365743]\n",
      "Eigenvalue 4 from covariance matrix: 0.023835092973450298\n",
      "------------------------------\n"
     ]
    }
   ],
   "source": [
    "# Step 2 - Compute the Eigenvalues of the covariance matrix:\n",
    "eig_val_covarianceMatrix, eig_vec_covarianceMatrix = np.linalg.eig(covariance_matrix_iris)\n",
    "\n",
    "# Print the Eigenvalues and Eigenvectors: sort in descending order.\n",
    "for i in range(len(eig_val_covarianceMatrix)):\n",
    "    eigvec_cov = eig_vec_covarianceMatrix[:,i]\n",
    "    print('Eigenvector {}: \\n{}'.format(i+1, eigvec_cov))\n",
    "    print('Eigenvalue {} from covariance matrix: {}'.format(i+1, eig_val_covarianceMatrix[i]))\n",
    "    print(30 * '-')"
   ]
  },
  {
   "cell_type": "markdown",
   "metadata": {},
   "source": [
    "#### Compute the % of Explained Variance that was captured by each of the Eigenvalue:\n",
    "\n",
    "Formula: eigenvalue of that components divided by the sum of all eigen values"
   ]
  },
  {
   "cell_type": "code",
   "execution_count": 22,
   "metadata": {},
   "outputs": [
    {
     "data": {
      "text/plain": [
       "array([0.92461872, 0.05306648, 0.01710261, 0.00521218])"
      ]
     },
     "execution_count": 22,
     "metadata": {},
     "output_type": "execute_result"
    }
   ],
   "source": [
    "explained_variance_ratio = eig_val_covarianceMatrix/eig_val_covarianceMatrix.sum()\n",
    "explained_variance_ratio"
   ]
  },
  {
   "cell_type": "markdown",
   "metadata": {},
   "source": [
    "#### Scree Plot:"
   ]
  },
  {
   "cell_type": "code",
   "execution_count": 23,
   "metadata": {},
   "outputs": [
    {
     "data": {
      "text/plain": [
       "Text(0, 0.5, '% of Variance Explained <= k')"
      ]
     },
     "execution_count": 23,
     "metadata": {},
     "output_type": "execute_result"
    },
    {
     "data": {
      "image/png": "[encoded data removed]",
      "text/plain": [
       "<Figure size 432x288 with 1 Axes>"
      ]
     },
     "metadata": {
      "needs_background": "light"
     },
     "output_type": "display_data"
    }
   ],
   "source": [
    "plt.plot(np.cumsum(explained_variance_ratio))\n",
    "plt.title('Scree Plot')\n",
    "plt.xlabel('Principal Component (k)')\n",
    "plt.ylabel('% of Variance Explained <= k')"
   ]
  },
  {
   "cell_type": "markdown",
   "metadata": {},
   "source": [
    "From the above, it can be seen that 2 principal components are able to explain 99% of the total variance in the original dataset. This also means that the dataset's size can be effectively shrunken down by half while still able to maintain its integrity and speed up its performance. \n"
   ]
  },
  {
   "cell_type": "code",
   "execution_count": 31,
   "metadata": {},
   "outputs": [
    {
     "data": {
      "text/plain": [
       "array([[ 0.36138659, -0.65658877, -0.58202985,  0.31548719],\n",
       "       [-0.08452251, -0.73016143,  0.59791083, -0.3197231 ],\n",
       "       [ 0.85667061,  0.17337266,  0.07623608, -0.47983899],\n",
       "       [ 0.3582892 ,  0.07548102,  0.54583143,  0.75365743]])"
      ]
     },
     "execution_count": 31,
     "metadata": {},
     "output_type": "execute_result"
    }
   ],
   "source": [
    "# Inspect the Eigenvector Covvariance Matrix:\n",
    "eig_vec_covarianceMatrix"
   ]
  },
  {
   "cell_type": "code",
   "execution_count": 32,
   "metadata": {},
   "outputs": [
    {
     "data": {
      "text/plain": [
       "array([[ 0.36138659, -0.08452251,  0.85667061,  0.3582892 ],\n",
       "       [-0.65658877, -0.73016143,  0.17337266,  0.07548102]])"
      ]
     },
     "execution_count": 32,
     "metadata": {},
     "output_type": "execute_result"
    }
   ],
   "source": [
    "# Step 3 - Keep the top-k eigenvalues by sorting them: 2 principal components are chosen (top-2)\n",
    "top_2_eig_vec = eig_vec_covarianceMatrix[:, :2].T\n",
    "\n",
    "# Inspect:\n",
    "top_2_eig_vec"
   ]
  },
  {
   "cell_type": "code",
   "execution_count": 34,
   "metadata": {},
   "outputs": [
    {
     "data": {
      "text/plain": [
       "array([[ 2.81823951, -5.64634982],\n",
       "       [ 2.78822345, -5.14995135],\n",
       "       [ 2.61337456, -5.18200315],\n",
       "       [ 2.75702228, -5.0086536 ],\n",
       "       [ 2.7736486 , -5.65370709]])"
      ]
     },
     "execution_count": 34,
     "metadata": {},
     "output_type": "execute_result"
    }
   ],
   "source": [
    "# Step 4 - Transform the dataset with these top-k eigenvalues to create new data points:\n",
    "X_iris_transformed = np.dot(a=X_iris, b=top_2_eig_vec.T)\n",
    "\n",
    "# Inspect:\n",
    "X_iris_transformed[:5, ]"
   ]
  },
  {
   "cell_type": "code",
   "execution_count": 35,
   "metadata": {},
   "outputs": [
    {
     "data": {
      "text/plain": [
       "((150, 4), (150, 2))"
      ]
     },
     "execution_count": 35,
     "metadata": {},
     "output_type": "execute_result"
    }
   ],
   "source": [
    "# Inspect the shapes:\n",
    "X_iris.shape, X_iris_transformed.shape"
   ]
  },
  {
   "cell_type": "markdown",
   "metadata": {},
   "source": [
    "Here, the features dataset of Iris has been effectively ttransformed into a new matrix of only 2 columns.\n",
    "\n",
    "## 3.5 - Scikit-Learn's PCA:"
   ]
  },
  {
   "cell_type": "code",
   "execution_count": 36,
   "metadata": {},
   "outputs": [
    {
     "name": "stderr",
     "output_type": "stream",
     "text": [
      "D:\\anaconda3\\envs\\Py37Work\\lib\\importlib\\_bootstrap.py:219: RuntimeWarning: numpy.ufunc size changed, may indicate binary incompatibility. Expected 192 from C header, got 216 from PyObject\n",
      "  return f(*args, **kwds)\n",
      "D:\\anaconda3\\envs\\Py37Work\\lib\\importlib\\_bootstrap.py:219: RuntimeWarning: numpy.ufunc size changed, may indicate binary incompatibility. Expected 192 from C header, got 216 from PyObject\n",
      "  return f(*args, **kwds)\n"
     ]
    }
   ],
   "source": [
    "# Import the required Libraries:\n",
    "from sklearn.decomposition import PCA"
   ]
  },
  {
   "cell_type": "code",
   "execution_count": 37,
   "metadata": {},
   "outputs": [
    {
     "data": {
      "text/plain": [
       "PCA(copy=True, iterated_power='auto', n_components=2, random_state=None,\n",
       "    svd_solver='auto', tol=0.0, whiten=False)"
      ]
     },
     "execution_count": 37,
     "metadata": {},
     "output_type": "execute_result"
    }
   ],
   "source": [
    "# Instantiate:\n",
    "pca = PCA(n_components=2)\n",
    "\n",
    "# Fit it to the dataset:\n",
    "pca.fit(X_iris)"
   ]
  },
  {
   "cell_type": "code",
   "execution_count": 38,
   "metadata": {},
   "outputs": [
    {
     "data": {
      "text/plain": [
       "array([[ 0.36138659, -0.08452251,  0.85667061,  0.3582892 ],\n",
       "       [ 0.65658877,  0.73016143, -0.17337266, -0.07548102]])"
      ]
     },
     "execution_count": 38,
     "metadata": {},
     "output_type": "execute_result"
    }
   ],
   "source": [
    "# Inspect the specified 2-Components:\n",
    "pca.components_"
   ]
  },
  {
   "cell_type": "markdown",
   "metadata": {},
   "source": [
    "The output can be seen to be similar to the manual computation. Interestingly, the value in the second column can be seen to be negative in both, this is because the eigenvectors can be both +ve and -ve, and it would still have very little effect on the ML pipeline."
   ]
  },
  {
   "cell_type": "code",
   "execution_count": 39,
   "metadata": {},
   "outputs": [
    {
     "data": {
      "text/plain": [
       "array([[-2.68412563,  0.31939725],\n",
       "       [-2.71414169, -0.17700123],\n",
       "       [-2.88899057, -0.14494943],\n",
       "       [-2.74534286, -0.31829898],\n",
       "       [-2.72871654,  0.32675451]])"
      ]
     },
     "execution_count": 39,
     "metadata": {},
     "output_type": "execute_result"
    }
   ],
   "source": [
    "# Transform the dataset with these top-k eigenvalues to create new data points:\n",
    "X_iris_transformed_pca = pca.transform(X_iris)\n",
    "\n",
    "# Inspect:\n",
    "X_iris_transformed_pca[:5, ]"
   ]
  },
  {
   "cell_type": "markdown",
   "metadata": {},
   "source": [
    "Notice the difference here, where the manual method's 2nd column have different values. This is because the PCA methods applies a centering method to the data. This can also be implemented to show the same results."
   ]
  },
  {
   "cell_type": "code",
   "execution_count": 40,
   "metadata": {},
   "outputs": [
    {
     "data": {
      "text/plain": [
       "(array([[-2.68412563,  0.31939725],\n",
       "        [-2.71414169, -0.17700123],\n",
       "        [-2.88899057, -0.14494943],\n",
       "        [-2.74534286, -0.31829898],\n",
       "        [-2.72871654,  0.32675451]]),\n",
       " array([[ 2.81823951, -5.64634982],\n",
       "        [ 2.78822345, -5.14995135],\n",
       "        [ 2.61337456, -5.18200315],\n",
       "        [ 2.75702228, -5.0086536 ],\n",
       "        [ 2.7736486 , -5.65370709]]))"
      ]
     },
     "execution_count": 40,
     "metadata": {},
     "output_type": "execute_result"
    }
   ],
   "source": [
    "X_iris_transformed_pca[:5, ], X_iris_transformed[:5, ]"
   ]
  },
  {
   "cell_type": "code",
   "execution_count": 41,
   "metadata": {},
   "outputs": [
    {
     "data": {
      "text/plain": [
       "array([[-2.68412563, -0.31939725],\n",
       "       [-2.71414169,  0.17700123],\n",
       "       [-2.88899057,  0.14494943],\n",
       "       [-2.74534286,  0.31829898],\n",
       "       [-2.72871654, -0.32675451]])"
      ]
     },
     "execution_count": 41,
     "metadata": {},
     "output_type": "execute_result"
    }
   ],
   "source": [
    "# Centre the data:\n",
    "X_iris_transformed = np.dot(X_iris - mean_vector, top_2_eig_vec.T)\n",
    "\n",
    "# Inspect:\n",
    "X_iris_transformed[:5, ]"
   ]
  },
  {
   "cell_type": "markdown",
   "metadata": {},
   "source": [
    "#### Visualise the dataset that has been transformed:"
   ]
  },
  {
   "cell_type": "code",
   "execution_count": 42,
   "metadata": {},
   "outputs": [
    {
     "data": {
      "image/png": "[encoded data removed]",
      "text/plain": [
       "<Figure size 432x288 with 1 Axes>"
      ]
     },
     "metadata": {
      "needs_background": "light"
     },
     "output_type": "display_data"
    },
    {
     "data": {
      "image/png": "[encoded data removed]",
      "text/plain": [
       "<Figure size 432x288 with 1 Axes>"
      ]
     },
     "metadata": {
      "needs_background": "light"
     },
     "output_type": "display_data"
    }
   ],
   "source": [
    "# For the original:\n",
    "plot_iris(X_iris, y_iris, \"Original Iris Data\", \"sepal length (cm)\", \"sepal width (cm)\")\n",
    "\n",
    "plt.show()\n",
    "\n",
    "# For the Transformed dataset:\n",
    "plot_iris(X_iris_transformed_pca, y_iris, \"Iris: Data projected onto first two PCA components\", \"PCA1\", \"PCA2\")"
   ]
  },
  {
   "cell_type": "markdown",
   "metadata": {},
   "source": [
    "### Observation:\n",
    "\n",
    "When compared to the original plot, the transformed Iris dataset in the projected space is able tto show more separattion from each other, and that the axis is rotated too. This is how the Principal components are working in order to capture the variance that is inherent to the data. \n"
   ]
  },
  {
   "cell_type": "code",
   "execution_count": 43,
   "metadata": {},
   "outputs": [
    {
     "data": {
      "text/plain": [
       "array([0.92461872, 0.05306648])"
      ]
     },
     "execution_count": 43,
     "metadata": {},
     "output_type": "execute_result"
    }
   ],
   "source": [
    "# Compute the percentage of variance in data explained by each component:\n",
    "pca.explained_variance_ratio_"
   ]
  },
  {
   "cell_type": "markdown",
   "metadata": {},
   "source": [
    "## 3.6 - PCA to De-correlate the Features:\n",
    "\n",
    "This is one of the benefits of utilising PCA, where it inherently outputs __linearly independent__ features as a result of the eigenvalue decomposition procedure. The principal components are perpendicular to one another. \n",
    "\n",
    "This benefits ML models as it takes in the assumption that the input features are independent and thatt in utilising PCA, this was ensured. \n",
    "\n",
    "#### Let's check for the linear independence:\n",
    "\n",
    "To do this:\n",
    "1."
   ]
  },
  {
   "cell_type": "code",
   "execution_count": null,
   "metadata": {},
   "outputs": [],
   "source": []
  },
  {
   "cell_type": "code",
   "execution_count": null,
   "metadata": {},
   "outputs": [],
   "source": []
  },
  {
   "cell_type": "code",
   "execution_count": null,
   "metadata": {},
   "outputs": [],
   "source": []
  },
  {
   "cell_type": "code",
   "execution_count": null,
   "metadata": {},
   "outputs": [],
   "source": []
  },
  {
   "cell_type": "code",
   "execution_count": null,
   "metadata": {},
   "outputs": [],
   "source": []
  },
  {
   "cell_type": "code",
   "execution_count": null,
   "metadata": {},
   "outputs": [],
   "source": []
  },
  {
   "cell_type": "code",
   "execution_count": null,
   "metadata": {},
   "outputs": [],
   "source": []
  },
  {
   "cell_type": "code",
   "execution_count": null,
   "metadata": {},
   "outputs": [],
   "source": []
  },
  {
   "cell_type": "code",
   "execution_count": null,
   "metadata": {},
   "outputs": [],
   "source": [
    "break"
   ]
  },
  {
   "cell_type": "code",
   "execution_count": null,
   "metadata": {},
   "outputs": [],
   "source": [
    "# Define the Working Directory for the Dataset:\n",
    "currentDirectory = os.getcwd()\n",
    "path_to_dataset = currentDirectory + \"/Dataset/\"\n",
    "\n",
    "# Load in the dataset:\n",
    "_dataset_df = pd.read_csv(path_to_dataset + '.csv')"
   ]
  },
  {
   "cell_type": "code",
   "execution_count": null,
   "metadata": {},
   "outputs": [],
   "source": [
    "<img src=\"Description Images/.png\" width=\"750\">\n",
    "\n",
    "Image Ref -> "
   ]
  }
 ],
 "metadata": {
  "kernelspec": {
   "display_name": "Python 3",
   "language": "python",
   "name": "python3"
  },
  "language_info": {
   "codemirror_mode": {
    "name": "ipython",
    "version": 3
   },
   "file_extension": ".py",
   "mimetype": "text/x-python",
   "name": "python",
   "nbconvert_exporter": "python",
   "pygments_lexer": "ipython3",
   "version": "3.7.7"
  }
 },
 "nbformat": 4,
 "nbformat_minor": 4
}
